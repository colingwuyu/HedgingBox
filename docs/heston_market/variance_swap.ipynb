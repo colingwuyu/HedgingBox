{
 "metadata": {
  "language_info": {
   "codemirror_mode": {
    "name": "ipython",
    "version": 3
   },
   "file_extension": ".py",
   "mimetype": "text/x-python",
   "name": "python",
   "nbconvert_exporter": "python",
   "pygments_lexer": "ipython3",
   "version": "3.7.7-final"
  },
  "orig_nbformat": 2,
  "kernelspec": {
   "name": "python37764bitbaseconda992f1e72d13f44dc8a5145da39b3b247",
   "display_name": "Python 3.7.7 64-bit ('base': conda)"
  }
 },
 "nbformat": 4,
 "nbformat_minor": 2,
 "cells": [
  {
   "cell_type": "markdown",
   "metadata": {},
   "source": [
    "# Heston Model\n",
    "\n",
    "## SDE\n",
    "Heston model assume the instantaneous variance of underlying follows a CIR process:\n",
    "$$dv=\\kappa (\\theta - v)dt + \\sigma \\sqrt{v} dW_v$$\n",
    "\n",
    "## Future variance\n",
    "Under the assumption of Heston model for underlying. There exists closed form of future variance:\n",
    "$$E[\\int_0^T{\\sigma^2_t}dt]=\\theta + \\frac{v_0 - \\theta}{\\kappa T}(1-e^{-\\kappa T})$$\n",
    "\n",
    "# Variance Swap Replicating Portfolio\n",
    "\n",
    "## Constant Dollar Gamma Payoff\n",
    "The following payoff function has constant gamma:\n",
    "$$f(F_t)=\\frac{2}{T} [ln(\\frac{F_0}{F_t})+\\frac{F_t}{F_0}-1]$$\n",
    "\n",
    "Combine with a dynamic delta hedging to $f(F_t)$ payoff will generate future variance:\n",
    "$$\\frac{1}{T}\\int_0^T{\\sigma^2_t}dt=\\frac{2}{T} [ln(\\frac{F_0}{F_t})+\\frac{F_t}{F_0}-1]-\\frac{2}{T}\\int_0^T[\\frac{1}{F_0}-\\frac{1}{F_t}]dF_t$$\n",
    "\n",
    "Derman's method (1999) uses available OTM options' payoffs to replicate payoff $f(F_t)$.\n",
    "<img src=\"./Derman method.png\">\n",
    "\n",
    "# HedgingBox Implementation\n",
    "Two parts are added in hedgingbox in order to include variance swap:\n",
    "- Instrument: add variance swap instrument and its pricing model.\n",
    "- GreekHedgingBot: add variance swap hedging strategy into greek hedging bot.\n",
    "\n",
    "## Market Variance Swap Instrument\n",
    "\n",
    "In market, the variance swap instrument's pricing can use two different methods:\n",
    "\n",
    "- Heston model: close form formula as desrcibed in [Heston Model](#heston-model)\n",
    "- Replicating portfolio: Derman's method\n",
    "\n",
    "The pricing method is defined by calling method VarianceSwap::set_pricing_method.\n",
    "\n",
    "## Greek Hedge Bot\n",
    "\n",
    "The variance swap hedging strategy implemented in Greek Hedge bot is Derman's method. It contains static hedging weights of OTM calls and puts with a dynamic delta hedging to keep the replicating portfolio zero delta.\n",
    "\n"
   ]
  },
  {
   "cell_type": "markdown",
   "metadata": {},
   "source": [
    "\n",
    "\n"
   ]
  },
  {
   "cell_type": "markdown",
   "metadata": {},
   "source": []
  },
  {
   "cell_type": "code",
   "execution_count": null,
   "metadata": {},
   "outputs": [],
   "source": []
  }
 ]
}