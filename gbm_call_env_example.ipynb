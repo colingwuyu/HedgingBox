{
  "nbformat": 4,
  "nbformat_minor": 0,
  "metadata": {
    "colab": {
      "name": "bs_euro_env.ipynb",
      "provenance": [],
      "collapsed_sections": [],
      "authorship_tag": "ABX9TyNfx1NNYLPX8f1JfP2wDvQ+",
      "include_colab_link": true
    },
    "kernelspec": {
      "name": "python3",
      "display_name": "Python 3"
    }
  },
  "cells": [
    {
      "cell_type": "markdown",
      "metadata": {
        "id": "view-in-github",
        "colab_type": "text"
      },
      "source": [
        "<a href=\"https://colab.research.google.com/github/colingwuyu/HedgingBox/blob/master/gbm_call_env_example.ipynb\" target=\"_parent\"><img src=\"https://colab.research.google.com/assets/colab-badge.svg\" alt=\"Open In Colab\"/></a>"
      ]
    },
    {
      "cell_type": "code",
      "metadata": {
        "id": "VQMfM_ntzBrW",
        "colab_type": "code",
        "colab": {
          "base_uri": "https://localhost:8080/",
          "height": 55
        },
        "outputId": "a6859f57-1fc5-4391-95ff-a36f28638a6b"
      },
      "source": [
        "from google.colab import drive\n",
        "drive.mount('/content/gdrive')"
      ],
      "execution_count": null,
      "outputs": [
        {
          "output_type": "stream",
          "text": [
            "Drive already mounted at /content/gdrive; to attempt to forcibly remount, call drive.mount(\"/content/gdrive\", force_remount=True).\n"
          ],
          "name": "stdout"
        }
      ]
    },
    {
      "cell_type": "code",
      "metadata": {
        "id": "OzFKREzkzRvT",
        "colab_type": "code",
        "colab": {}
      },
      "source": [
        "import sys\n",
        "sys.path.append('/content/gdrive/My Drive/Projects/hb')"
      ],
      "execution_count": null,
      "outputs": []
    },
    {
      "cell_type": "code",
      "metadata": {
        "cellView": "both",
        "colab_type": "code",
        "id": "KH3O0zcXUeun",
        "colab": {
          "base_uri": "https://localhost:8080/",
          "height": 1000
        },
        "outputId": "e6809187-b1a6-4c25-f7c1-7a6d941c7f44"
      },
      "source": [
        "#@title Install necessary dependencies.\n",
        "!pip install dm-acme\n",
        "!pip install dm-acme[reverb]\n",
        "!pip install dm-acme[tf]\n",
        "!pip install dm-acme[envs]\n"
      ],
      "execution_count": null,
      "outputs": [
        {
          "output_type": "stream",
          "text": [
            "Requirement already satisfied: dm-acme in /usr/local/lib/python3.6/dist-packages (0.1.7)\n",
            "Requirement already satisfied: dm-tree in /usr/local/lib/python3.6/dist-packages (from dm-acme) (0.1.5)\n",
            "Requirement already satisfied: numpy in /usr/local/lib/python3.6/dist-packages (from dm-acme) (1.18.5)\n",
            "Requirement already satisfied: pillow in /usr/local/lib/python3.6/dist-packages (from dm-acme) (7.0.0)\n",
            "Requirement already satisfied: absl-py in /usr/local/lib/python3.6/dist-packages (from dm-acme) (0.9.0)\n",
            "Requirement already satisfied: dm-env in /usr/local/lib/python3.6/dist-packages (from dm-acme) (1.2)\n",
            "Requirement already satisfied: six>=1.12.0 in /usr/local/lib/python3.6/dist-packages (from dm-tree->dm-acme) (1.12.0)\n",
            "Requirement already satisfied: dm-acme[reverb] in /usr/local/lib/python3.6/dist-packages (0.1.7)\n",
            "Requirement already satisfied: dm-tree in /usr/local/lib/python3.6/dist-packages (from dm-acme[reverb]) (0.1.5)\n",
            "Requirement already satisfied: absl-py in /usr/local/lib/python3.6/dist-packages (from dm-acme[reverb]) (0.9.0)\n",
            "Requirement already satisfied: pillow in /usr/local/lib/python3.6/dist-packages (from dm-acme[reverb]) (7.0.0)\n",
            "Requirement already satisfied: numpy in /usr/local/lib/python3.6/dist-packages (from dm-acme[reverb]) (1.18.5)\n",
            "Requirement already satisfied: dm-env in /usr/local/lib/python3.6/dist-packages (from dm-acme[reverb]) (1.2)\n",
            "Requirement already satisfied: tf-nightly==2.3.0.dev20200616; extra == \"reverb\" in /usr/local/lib/python3.6/dist-packages (from dm-acme[reverb]) (2.3.0.dev20200616)\n",
            "Requirement already satisfied: dm-reverb-nightly==0.1.0.dev20200616; extra == \"reverb\" in /usr/local/lib/python3.6/dist-packages (from dm-acme[reverb]) (0.1.0.dev20200616)\n",
            "Requirement already satisfied: six>=1.12.0 in /usr/local/lib/python3.6/dist-packages (from dm-tree->dm-acme[reverb]) (1.12.0)\n",
            "Requirement already satisfied: tf-estimator-nightly in /usr/local/lib/python3.6/dist-packages (from tf-nightly==2.3.0.dev20200616; extra == \"reverb\"->dm-acme[reverb]) (2.4.0.dev2020071301)\n",
            "Requirement already satisfied: wheel>=0.26 in /usr/local/lib/python3.6/dist-packages (from tf-nightly==2.3.0.dev20200616; extra == \"reverb\"->dm-acme[reverb]) (0.34.2)\n",
            "Requirement already satisfied: grpcio>=1.8.6 in /usr/local/lib/python3.6/dist-packages (from tf-nightly==2.3.0.dev20200616; extra == \"reverb\"->dm-acme[reverb]) (1.30.0)\n",
            "Requirement already satisfied: termcolor>=1.1.0 in /usr/local/lib/python3.6/dist-packages (from tf-nightly==2.3.0.dev20200616; extra == \"reverb\"->dm-acme[reverb]) (1.1.0)\n",
            "Requirement already satisfied: keras-preprocessing<1.2,>=1.1.1 in /usr/local/lib/python3.6/dist-packages (from tf-nightly==2.3.0.dev20200616; extra == \"reverb\"->dm-acme[reverb]) (1.1.2)\n",
            "Requirement already satisfied: h5py<2.11.0,>=2.10.0 in /usr/local/lib/python3.6/dist-packages (from tf-nightly==2.3.0.dev20200616; extra == \"reverb\"->dm-acme[reverb]) (2.10.0)\n",
            "Requirement already satisfied: gast==0.3.3 in /usr/local/lib/python3.6/dist-packages (from tf-nightly==2.3.0.dev20200616; extra == \"reverb\"->dm-acme[reverb]) (0.3.3)\n",
            "Requirement already satisfied: astunparse==1.6.3 in /usr/local/lib/python3.6/dist-packages (from tf-nightly==2.3.0.dev20200616; extra == \"reverb\"->dm-acme[reverb]) (1.6.3)\n",
            "Requirement already satisfied: google-pasta>=0.1.8 in /usr/local/lib/python3.6/dist-packages (from tf-nightly==2.3.0.dev20200616; extra == \"reverb\"->dm-acme[reverb]) (0.2.0)\n",
            "Requirement already satisfied: tb-nightly<2.4.0a0,>=2.3.0a0 in /usr/local/lib/python3.6/dist-packages (from tf-nightly==2.3.0.dev20200616; extra == \"reverb\"->dm-acme[reverb]) (2.3.0a20200713)\n",
            "Requirement already satisfied: wrapt>=1.11.1 in /usr/local/lib/python3.6/dist-packages (from tf-nightly==2.3.0.dev20200616; extra == \"reverb\"->dm-acme[reverb]) (1.12.1)\n",
            "Requirement already satisfied: opt-einsum>=2.3.2 in /usr/local/lib/python3.6/dist-packages (from tf-nightly==2.3.0.dev20200616; extra == \"reverb\"->dm-acme[reverb]) (3.2.1)\n",
            "Requirement already satisfied: scipy==1.4.1 in /usr/local/lib/python3.6/dist-packages (from tf-nightly==2.3.0.dev20200616; extra == \"reverb\"->dm-acme[reverb]) (1.4.1)\n",
            "Requirement already satisfied: protobuf>=3.9.2 in /usr/local/lib/python3.6/dist-packages (from tf-nightly==2.3.0.dev20200616; extra == \"reverb\"->dm-acme[reverb]) (3.10.0)\n",
            "Requirement already satisfied: portpicker in /usr/local/lib/python3.6/dist-packages (from dm-reverb-nightly==0.1.0.dev20200616; extra == \"reverb\"->dm-acme[reverb]) (1.3.1)\n",
            "Requirement already satisfied: setuptools>=41.0.0 in /usr/local/lib/python3.6/dist-packages (from tb-nightly<2.4.0a0,>=2.3.0a0->tf-nightly==2.3.0.dev20200616; extra == \"reverb\"->dm-acme[reverb]) (49.1.0)\n",
            "Requirement already satisfied: markdown>=2.6.8 in /usr/local/lib/python3.6/dist-packages (from tb-nightly<2.4.0a0,>=2.3.0a0->tf-nightly==2.3.0.dev20200616; extra == \"reverb\"->dm-acme[reverb]) (3.2.2)\n",
            "Requirement already satisfied: werkzeug>=0.11.15 in /usr/local/lib/python3.6/dist-packages (from tb-nightly<2.4.0a0,>=2.3.0a0->tf-nightly==2.3.0.dev20200616; extra == \"reverb\"->dm-acme[reverb]) (1.0.1)\n",
            "Requirement already satisfied: google-auth<2,>=1.6.3 in /usr/local/lib/python3.6/dist-packages (from tb-nightly<2.4.0a0,>=2.3.0a0->tf-nightly==2.3.0.dev20200616; extra == \"reverb\"->dm-acme[reverb]) (1.17.2)\n",
            "Requirement already satisfied: requests<3,>=2.21.0 in /usr/local/lib/python3.6/dist-packages (from tb-nightly<2.4.0a0,>=2.3.0a0->tf-nightly==2.3.0.dev20200616; extra == \"reverb\"->dm-acme[reverb]) (2.23.0)\n",
            "Requirement already satisfied: tensorboard-plugin-wit>=1.6.0 in /usr/local/lib/python3.6/dist-packages (from tb-nightly<2.4.0a0,>=2.3.0a0->tf-nightly==2.3.0.dev20200616; extra == \"reverb\"->dm-acme[reverb]) (1.7.0)\n",
            "Requirement already satisfied: google-auth-oauthlib<0.5,>=0.4.1 in /usr/local/lib/python3.6/dist-packages (from tb-nightly<2.4.0a0,>=2.3.0a0->tf-nightly==2.3.0.dev20200616; extra == \"reverb\"->dm-acme[reverb]) (0.4.1)\n",
            "Requirement already satisfied: importlib-metadata; python_version < \"3.8\" in /usr/local/lib/python3.6/dist-packages (from markdown>=2.6.8->tb-nightly<2.4.0a0,>=2.3.0a0->tf-nightly==2.3.0.dev20200616; extra == \"reverb\"->dm-acme[reverb]) (1.7.0)\n",
            "Requirement already satisfied: pyasn1-modules>=0.2.1 in /usr/local/lib/python3.6/dist-packages (from google-auth<2,>=1.6.3->tb-nightly<2.4.0a0,>=2.3.0a0->tf-nightly==2.3.0.dev20200616; extra == \"reverb\"->dm-acme[reverb]) (0.2.8)\n",
            "Requirement already satisfied: rsa<5,>=3.1.4; python_version >= \"3\" in /usr/local/lib/python3.6/dist-packages (from google-auth<2,>=1.6.3->tb-nightly<2.4.0a0,>=2.3.0a0->tf-nightly==2.3.0.dev20200616; extra == \"reverb\"->dm-acme[reverb]) (4.6)\n",
            "Requirement already satisfied: cachetools<5.0,>=2.0.0 in /usr/local/lib/python3.6/dist-packages (from google-auth<2,>=1.6.3->tb-nightly<2.4.0a0,>=2.3.0a0->tf-nightly==2.3.0.dev20200616; extra == \"reverb\"->dm-acme[reverb]) (4.1.1)\n",
            "Requirement already satisfied: chardet<4,>=3.0.2 in /usr/local/lib/python3.6/dist-packages (from requests<3,>=2.21.0->tb-nightly<2.4.0a0,>=2.3.0a0->tf-nightly==2.3.0.dev20200616; extra == \"reverb\"->dm-acme[reverb]) (3.0.4)\n",
            "Requirement already satisfied: idna<3,>=2.5 in /usr/local/lib/python3.6/dist-packages (from requests<3,>=2.21.0->tb-nightly<2.4.0a0,>=2.3.0a0->tf-nightly==2.3.0.dev20200616; extra == \"reverb\"->dm-acme[reverb]) (2.10)\n",
            "Requirement already satisfied: urllib3!=1.25.0,!=1.25.1,<1.26,>=1.21.1 in /usr/local/lib/python3.6/dist-packages (from requests<3,>=2.21.0->tb-nightly<2.4.0a0,>=2.3.0a0->tf-nightly==2.3.0.dev20200616; extra == \"reverb\"->dm-acme[reverb]) (1.24.3)\n",
            "Requirement already satisfied: certifi>=2017.4.17 in /usr/local/lib/python3.6/dist-packages (from requests<3,>=2.21.0->tb-nightly<2.4.0a0,>=2.3.0a0->tf-nightly==2.3.0.dev20200616; extra == \"reverb\"->dm-acme[reverb]) (2020.6.20)\n",
            "Requirement already satisfied: requests-oauthlib>=0.7.0 in /usr/local/lib/python3.6/dist-packages (from google-auth-oauthlib<0.5,>=0.4.1->tb-nightly<2.4.0a0,>=2.3.0a0->tf-nightly==2.3.0.dev20200616; extra == \"reverb\"->dm-acme[reverb]) (1.3.0)\n",
            "Requirement already satisfied: zipp>=0.5 in /usr/local/lib/python3.6/dist-packages (from importlib-metadata; python_version < \"3.8\"->markdown>=2.6.8->tb-nightly<2.4.0a0,>=2.3.0a0->tf-nightly==2.3.0.dev20200616; extra == \"reverb\"->dm-acme[reverb]) (3.1.0)\n",
            "Requirement already satisfied: pyasn1<0.5.0,>=0.4.6 in /usr/local/lib/python3.6/dist-packages (from pyasn1-modules>=0.2.1->google-auth<2,>=1.6.3->tb-nightly<2.4.0a0,>=2.3.0a0->tf-nightly==2.3.0.dev20200616; extra == \"reverb\"->dm-acme[reverb]) (0.4.8)\n",
            "Requirement already satisfied: oauthlib>=3.0.0 in /usr/local/lib/python3.6/dist-packages (from requests-oauthlib>=0.7.0->google-auth-oauthlib<0.5,>=0.4.1->tb-nightly<2.4.0a0,>=2.3.0a0->tf-nightly==2.3.0.dev20200616; extra == \"reverb\"->dm-acme[reverb]) (3.1.0)\n",
            "Requirement already satisfied: dm-acme[tf] in /usr/local/lib/python3.6/dist-packages (0.1.7)\n",
            "Requirement already satisfied: dm-env in /usr/local/lib/python3.6/dist-packages (from dm-acme[tf]) (1.2)\n",
            "Requirement already satisfied: pillow in /usr/local/lib/python3.6/dist-packages (from dm-acme[tf]) (7.0.0)\n",
            "Requirement already satisfied: numpy in /usr/local/lib/python3.6/dist-packages (from dm-acme[tf]) (1.18.5)\n",
            "Requirement already satisfied: dm-tree in /usr/local/lib/python3.6/dist-packages (from dm-acme[tf]) (0.1.5)\n",
            "Requirement already satisfied: absl-py in /usr/local/lib/python3.6/dist-packages (from dm-acme[tf]) (0.9.0)\n",
            "Requirement already satisfied: tfp-nightly; extra == \"tf\" in /usr/local/lib/python3.6/dist-packages (from dm-acme[tf]) (0.11.0.dev20200713)\n",
            "Requirement already satisfied: dm-sonnet; extra == \"tf\" in /usr/local/lib/python3.6/dist-packages (from dm-acme[tf]) (2.0.0)\n",
            "Requirement already satisfied: tf-nightly==2.3.0.dev20200616; extra == \"tf\" in /usr/local/lib/python3.6/dist-packages (from dm-acme[tf]) (2.3.0.dev20200616)\n",
            "Requirement already satisfied: trfl; extra == \"tf\" in /usr/local/lib/python3.6/dist-packages (from dm-acme[tf]) (1.1.0)\n",
            "Requirement already satisfied: six in /usr/local/lib/python3.6/dist-packages (from dm-env->dm-acme[tf]) (1.12.0)\n",
            "Requirement already satisfied: decorator in /usr/local/lib/python3.6/dist-packages (from tfp-nightly; extra == \"tf\"->dm-acme[tf]) (4.4.2)\n",
            "Requirement already satisfied: gast>=0.3.2 in /usr/local/lib/python3.6/dist-packages (from tfp-nightly; extra == \"tf\"->dm-acme[tf]) (0.3.3)\n",
            "Requirement already satisfied: cloudpickle==1.3 in /usr/local/lib/python3.6/dist-packages (from tfp-nightly; extra == \"tf\"->dm-acme[tf]) (1.3.0)\n",
            "Requirement already satisfied: tabulate>=0.7.5 in /usr/local/lib/python3.6/dist-packages (from dm-sonnet; extra == \"tf\"->dm-acme[tf]) (0.8.7)\n",
            "Requirement already satisfied: wrapt>=1.11.1 in /usr/local/lib/python3.6/dist-packages (from dm-sonnet; extra == \"tf\"->dm-acme[tf]) (1.12.1)\n",
            "Requirement already satisfied: google-pasta>=0.1.8 in /usr/local/lib/python3.6/dist-packages (from tf-nightly==2.3.0.dev20200616; extra == \"tf\"->dm-acme[tf]) (0.2.0)\n",
            "Requirement already satisfied: tf-estimator-nightly in /usr/local/lib/python3.6/dist-packages (from tf-nightly==2.3.0.dev20200616; extra == \"tf\"->dm-acme[tf]) (2.4.0.dev2020071301)\n",
            "Requirement already satisfied: astunparse==1.6.3 in /usr/local/lib/python3.6/dist-packages (from tf-nightly==2.3.0.dev20200616; extra == \"tf\"->dm-acme[tf]) (1.6.3)\n",
            "Requirement already satisfied: opt-einsum>=2.3.2 in /usr/local/lib/python3.6/dist-packages (from tf-nightly==2.3.0.dev20200616; extra == \"tf\"->dm-acme[tf]) (3.2.1)\n",
            "Requirement already satisfied: scipy==1.4.1 in /usr/local/lib/python3.6/dist-packages (from tf-nightly==2.3.0.dev20200616; extra == \"tf\"->dm-acme[tf]) (1.4.1)\n",
            "Requirement already satisfied: h5py<2.11.0,>=2.10.0 in /usr/local/lib/python3.6/dist-packages (from tf-nightly==2.3.0.dev20200616; extra == \"tf\"->dm-acme[tf]) (2.10.0)\n",
            "Requirement already satisfied: wheel>=0.26 in /usr/local/lib/python3.6/dist-packages (from tf-nightly==2.3.0.dev20200616; extra == \"tf\"->dm-acme[tf]) (0.34.2)\n",
            "Requirement already satisfied: termcolor>=1.1.0 in /usr/local/lib/python3.6/dist-packages (from tf-nightly==2.3.0.dev20200616; extra == \"tf\"->dm-acme[tf]) (1.1.0)\n",
            "Requirement already satisfied: grpcio>=1.8.6 in /usr/local/lib/python3.6/dist-packages (from tf-nightly==2.3.0.dev20200616; extra == \"tf\"->dm-acme[tf]) (1.30.0)\n",
            "Requirement already satisfied: keras-preprocessing<1.2,>=1.1.1 in /usr/local/lib/python3.6/dist-packages (from tf-nightly==2.3.0.dev20200616; extra == \"tf\"->dm-acme[tf]) (1.1.2)\n",
            "Requirement already satisfied: protobuf>=3.9.2 in /usr/local/lib/python3.6/dist-packages (from tf-nightly==2.3.0.dev20200616; extra == \"tf\"->dm-acme[tf]) (3.10.0)\n",
            "Requirement already satisfied: tb-nightly<2.4.0a0,>=2.3.0a0 in /usr/local/lib/python3.6/dist-packages (from tf-nightly==2.3.0.dev20200616; extra == \"tf\"->dm-acme[tf]) (2.3.0a20200713)\n",
            "Requirement already satisfied: setuptools in /usr/local/lib/python3.6/dist-packages (from protobuf>=3.9.2->tf-nightly==2.3.0.dev20200616; extra == \"tf\"->dm-acme[tf]) (49.1.0)\n",
            "Requirement already satisfied: requests<3,>=2.21.0 in /usr/local/lib/python3.6/dist-packages (from tb-nightly<2.4.0a0,>=2.3.0a0->tf-nightly==2.3.0.dev20200616; extra == \"tf\"->dm-acme[tf]) (2.23.0)\n",
            "Requirement already satisfied: google-auth-oauthlib<0.5,>=0.4.1 in /usr/local/lib/python3.6/dist-packages (from tb-nightly<2.4.0a0,>=2.3.0a0->tf-nightly==2.3.0.dev20200616; extra == \"tf\"->dm-acme[tf]) (0.4.1)\n",
            "Requirement already satisfied: werkzeug>=0.11.15 in /usr/local/lib/python3.6/dist-packages (from tb-nightly<2.4.0a0,>=2.3.0a0->tf-nightly==2.3.0.dev20200616; extra == \"tf\"->dm-acme[tf]) (1.0.1)\n",
            "Requirement already satisfied: tensorboard-plugin-wit>=1.6.0 in /usr/local/lib/python3.6/dist-packages (from tb-nightly<2.4.0a0,>=2.3.0a0->tf-nightly==2.3.0.dev20200616; extra == \"tf\"->dm-acme[tf]) (1.7.0)\n",
            "Requirement already satisfied: markdown>=2.6.8 in /usr/local/lib/python3.6/dist-packages (from tb-nightly<2.4.0a0,>=2.3.0a0->tf-nightly==2.3.0.dev20200616; extra == \"tf\"->dm-acme[tf]) (3.2.2)\n",
            "Requirement already satisfied: google-auth<2,>=1.6.3 in /usr/local/lib/python3.6/dist-packages (from tb-nightly<2.4.0a0,>=2.3.0a0->tf-nightly==2.3.0.dev20200616; extra == \"tf\"->dm-acme[tf]) (1.17.2)\n",
            "Requirement already satisfied: chardet<4,>=3.0.2 in /usr/local/lib/python3.6/dist-packages (from requests<3,>=2.21.0->tb-nightly<2.4.0a0,>=2.3.0a0->tf-nightly==2.3.0.dev20200616; extra == \"tf\"->dm-acme[tf]) (3.0.4)\n",
            "Requirement already satisfied: certifi>=2017.4.17 in /usr/local/lib/python3.6/dist-packages (from requests<3,>=2.21.0->tb-nightly<2.4.0a0,>=2.3.0a0->tf-nightly==2.3.0.dev20200616; extra == \"tf\"->dm-acme[tf]) (2020.6.20)\n",
            "Requirement already satisfied: urllib3!=1.25.0,!=1.25.1,<1.26,>=1.21.1 in /usr/local/lib/python3.6/dist-packages (from requests<3,>=2.21.0->tb-nightly<2.4.0a0,>=2.3.0a0->tf-nightly==2.3.0.dev20200616; extra == \"tf\"->dm-acme[tf]) (1.24.3)\n",
            "Requirement already satisfied: idna<3,>=2.5 in /usr/local/lib/python3.6/dist-packages (from requests<3,>=2.21.0->tb-nightly<2.4.0a0,>=2.3.0a0->tf-nightly==2.3.0.dev20200616; extra == \"tf\"->dm-acme[tf]) (2.10)\n",
            "Requirement already satisfied: requests-oauthlib>=0.7.0 in /usr/local/lib/python3.6/dist-packages (from google-auth-oauthlib<0.5,>=0.4.1->tb-nightly<2.4.0a0,>=2.3.0a0->tf-nightly==2.3.0.dev20200616; extra == \"tf\"->dm-acme[tf]) (1.3.0)\n",
            "Requirement already satisfied: importlib-metadata; python_version < \"3.8\" in /usr/local/lib/python3.6/dist-packages (from markdown>=2.6.8->tb-nightly<2.4.0a0,>=2.3.0a0->tf-nightly==2.3.0.dev20200616; extra == \"tf\"->dm-acme[tf]) (1.7.0)\n",
            "Requirement already satisfied: pyasn1-modules>=0.2.1 in /usr/local/lib/python3.6/dist-packages (from google-auth<2,>=1.6.3->tb-nightly<2.4.0a0,>=2.3.0a0->tf-nightly==2.3.0.dev20200616; extra == \"tf\"->dm-acme[tf]) (0.2.8)\n",
            "Requirement already satisfied: rsa<5,>=3.1.4; python_version >= \"3\" in /usr/local/lib/python3.6/dist-packages (from google-auth<2,>=1.6.3->tb-nightly<2.4.0a0,>=2.3.0a0->tf-nightly==2.3.0.dev20200616; extra == \"tf\"->dm-acme[tf]) (4.6)\n",
            "Requirement already satisfied: cachetools<5.0,>=2.0.0 in /usr/local/lib/python3.6/dist-packages (from google-auth<2,>=1.6.3->tb-nightly<2.4.0a0,>=2.3.0a0->tf-nightly==2.3.0.dev20200616; extra == \"tf\"->dm-acme[tf]) (4.1.1)\n",
            "Requirement already satisfied: oauthlib>=3.0.0 in /usr/local/lib/python3.6/dist-packages (from requests-oauthlib>=0.7.0->google-auth-oauthlib<0.5,>=0.4.1->tb-nightly<2.4.0a0,>=2.3.0a0->tf-nightly==2.3.0.dev20200616; extra == \"tf\"->dm-acme[tf]) (3.1.0)\n",
            "Requirement already satisfied: zipp>=0.5 in /usr/local/lib/python3.6/dist-packages (from importlib-metadata; python_version < \"3.8\"->markdown>=2.6.8->tb-nightly<2.4.0a0,>=2.3.0a0->tf-nightly==2.3.0.dev20200616; extra == \"tf\"->dm-acme[tf]) (3.1.0)\n",
            "Requirement already satisfied: pyasn1<0.5.0,>=0.4.6 in /usr/local/lib/python3.6/dist-packages (from pyasn1-modules>=0.2.1->google-auth<2,>=1.6.3->tb-nightly<2.4.0a0,>=2.3.0a0->tf-nightly==2.3.0.dev20200616; extra == \"tf\"->dm-acme[tf]) (0.4.8)\n",
            "Requirement already satisfied: dm-acme[envs] in /usr/local/lib/python3.6/dist-packages (0.1.7)\n",
            "Requirement already satisfied: dm-tree in /usr/local/lib/python3.6/dist-packages (from dm-acme[envs]) (0.1.5)\n",
            "Requirement already satisfied: absl-py in /usr/local/lib/python3.6/dist-packages (from dm-acme[envs]) (0.9.0)\n",
            "Requirement already satisfied: dm-env in /usr/local/lib/python3.6/dist-packages (from dm-acme[envs]) (1.2)\n",
            "Requirement already satisfied: pillow in /usr/local/lib/python3.6/dist-packages (from dm-acme[envs]) (7.0.0)\n",
            "Requirement already satisfied: numpy in /usr/local/lib/python3.6/dist-packages (from dm-acme[envs]) (1.18.5)\n",
            "Requirement already satisfied: gym[atari]; extra == \"envs\" in /usr/local/lib/python3.6/dist-packages (from dm-acme[envs]) (0.17.2)\n",
            "Requirement already satisfied: dm-control; extra == \"envs\" in /usr/local/lib/python3.6/dist-packages (from dm-acme[envs]) (0.0.319497192)\n",
            "Requirement already satisfied: bsuite@ git+git://github.com/deepmind/bsuite.git#egg=bsuite ; extra == \"envs\" from git+git://github.com/deepmind/bsuite.git#egg=bsuite in /usr/local/lib/python3.6/dist-packages (from dm-acme[envs]) (0.3.2)\n",
            "Requirement already satisfied: six>=1.12.0 in /usr/local/lib/python3.6/dist-packages (from dm-tree->dm-acme[envs]) (1.12.0)\n",
            "Requirement already satisfied: pyglet<=1.5.0,>=1.4.0 in /usr/local/lib/python3.6/dist-packages (from gym[atari]; extra == \"envs\"->dm-acme[envs]) (1.5.0)\n",
            "Requirement already satisfied: scipy in /usr/local/lib/python3.6/dist-packages (from gym[atari]; extra == \"envs\"->dm-acme[envs]) (1.4.1)\n",
            "Requirement already satisfied: cloudpickle<1.4.0,>=1.2.0 in /usr/local/lib/python3.6/dist-packages (from gym[atari]; extra == \"envs\"->dm-acme[envs]) (1.3.0)\n",
            "Requirement already satisfied: opencv-python; extra == \"atari\" in /usr/local/lib/python3.6/dist-packages (from gym[atari]; extra == \"envs\"->dm-acme[envs]) (4.1.2.30)\n",
            "Requirement already satisfied: atari-py~=0.2.0; extra == \"atari\" in /usr/local/lib/python3.6/dist-packages (from gym[atari]; extra == \"envs\"->dm-acme[envs]) (0.2.6)\n",
            "Requirement already satisfied: glfw in /usr/local/lib/python3.6/dist-packages (from dm-control; extra == \"envs\"->dm-acme[envs]) (1.12.0)\n",
            "Requirement already satisfied: setuptools in /usr/local/lib/python3.6/dist-packages (from dm-control; extra == \"envs\"->dm-acme[envs]) (49.1.0)\n",
            "Requirement already satisfied: lxml in /usr/local/lib/python3.6/dist-packages (from dm-control; extra == \"envs\"->dm-acme[envs]) (4.2.6)\n",
            "Requirement already satisfied: future in /usr/local/lib/python3.6/dist-packages (from dm-control; extra == \"envs\"->dm-acme[envs]) (0.16.0)\n",
            "Requirement already satisfied: pyparsing in /usr/local/lib/python3.6/dist-packages (from dm-control; extra == \"envs\"->dm-acme[envs]) (2.4.7)\n",
            "Requirement already satisfied: pyopengl>=3.1.4 in /usr/local/lib/python3.6/dist-packages (from dm-control; extra == \"envs\"->dm-acme[envs]) (3.1.5)\n",
            "Requirement already satisfied: matplotlib in /usr/local/lib/python3.6/dist-packages (from bsuite@ git+git://github.com/deepmind/bsuite.git#egg=bsuite ; extra == \"envs\"->dm-acme[envs]) (3.2.2)\n",
            "Requirement already satisfied: scikit-image in /usr/local/lib/python3.6/dist-packages (from bsuite@ git+git://github.com/deepmind/bsuite.git#egg=bsuite ; extra == \"envs\"->dm-acme[envs]) (0.16.2)\n",
            "Requirement already satisfied: frozendict in /usr/local/lib/python3.6/dist-packages (from bsuite@ git+git://github.com/deepmind/bsuite.git#egg=bsuite ; extra == \"envs\"->dm-acme[envs]) (1.2)\n",
            "Requirement already satisfied: termcolor in /usr/local/lib/python3.6/dist-packages (from bsuite@ git+git://github.com/deepmind/bsuite.git#egg=bsuite ; extra == \"envs\"->dm-acme[envs]) (1.1.0)\n",
            "Requirement already satisfied: pandas in /usr/local/lib/python3.6/dist-packages (from bsuite@ git+git://github.com/deepmind/bsuite.git#egg=bsuite ; extra == \"envs\"->dm-acme[envs]) (1.0.5)\n",
            "Requirement already satisfied: plotnine in /usr/local/lib/python3.6/dist-packages (from bsuite@ git+git://github.com/deepmind/bsuite.git#egg=bsuite ; extra == \"envs\"->dm-acme[envs]) (0.6.0)\n",
            "Requirement already satisfied: kiwisolver>=1.0.1 in /usr/local/lib/python3.6/dist-packages (from matplotlib->bsuite@ git+git://github.com/deepmind/bsuite.git#egg=bsuite ; extra == \"envs\"->dm-acme[envs]) (1.2.0)\n",
            "Requirement already satisfied: cycler>=0.10 in /usr/local/lib/python3.6/dist-packages (from matplotlib->bsuite@ git+git://github.com/deepmind/bsuite.git#egg=bsuite ; extra == \"envs\"->dm-acme[envs]) (0.10.0)\n",
            "Requirement already satisfied: python-dateutil>=2.1 in /usr/local/lib/python3.6/dist-packages (from matplotlib->bsuite@ git+git://github.com/deepmind/bsuite.git#egg=bsuite ; extra == \"envs\"->dm-acme[envs]) (2.8.1)\n",
            "Requirement already satisfied: imageio>=2.3.0 in /usr/local/lib/python3.6/dist-packages (from scikit-image->bsuite@ git+git://github.com/deepmind/bsuite.git#egg=bsuite ; extra == \"envs\"->dm-acme[envs]) (2.4.1)\n",
            "Requirement already satisfied: networkx>=2.0 in /usr/local/lib/python3.6/dist-packages (from scikit-image->bsuite@ git+git://github.com/deepmind/bsuite.git#egg=bsuite ; extra == \"envs\"->dm-acme[envs]) (2.4)\n",
            "Requirement already satisfied: PyWavelets>=0.4.0 in /usr/local/lib/python3.6/dist-packages (from scikit-image->bsuite@ git+git://github.com/deepmind/bsuite.git#egg=bsuite ; extra == \"envs\"->dm-acme[envs]) (1.1.1)\n",
            "Requirement already satisfied: pytz>=2017.2 in /usr/local/lib/python3.6/dist-packages (from pandas->bsuite@ git+git://github.com/deepmind/bsuite.git#egg=bsuite ; extra == \"envs\"->dm-acme[envs]) (2018.9)\n",
            "Requirement already satisfied: statsmodels>=0.9.0 in /usr/local/lib/python3.6/dist-packages (from plotnine->bsuite@ git+git://github.com/deepmind/bsuite.git#egg=bsuite ; extra == \"envs\"->dm-acme[envs]) (0.10.2)\n",
            "Requirement already satisfied: descartes>=1.1.0 in /usr/local/lib/python3.6/dist-packages (from plotnine->bsuite@ git+git://github.com/deepmind/bsuite.git#egg=bsuite ; extra == \"envs\"->dm-acme[envs]) (1.1.0)\n",
            "Requirement already satisfied: patsy>=0.4.1 in /usr/local/lib/python3.6/dist-packages (from plotnine->bsuite@ git+git://github.com/deepmind/bsuite.git#egg=bsuite ; extra == \"envs\"->dm-acme[envs]) (0.5.1)\n",
            "Requirement already satisfied: mizani>=0.6.0 in /usr/local/lib/python3.6/dist-packages (from plotnine->bsuite@ git+git://github.com/deepmind/bsuite.git#egg=bsuite ; extra == \"envs\"->dm-acme[envs]) (0.6.0)\n",
            "Requirement already satisfied: decorator>=4.3.0 in /usr/local/lib/python3.6/dist-packages (from networkx>=2.0->scikit-image->bsuite@ git+git://github.com/deepmind/bsuite.git#egg=bsuite ; extra == \"envs\"->dm-acme[envs]) (4.4.2)\n",
            "Requirement already satisfied: palettable in /usr/local/lib/python3.6/dist-packages (from mizani>=0.6.0->plotnine->bsuite@ git+git://github.com/deepmind/bsuite.git#egg=bsuite ; extra == \"envs\"->dm-acme[envs]) (3.3.0)\n"
          ],
          "name": "stdout"
        }
      ]
    },
    {
      "cell_type": "code",
      "metadata": {
        "id": "-9qlJqw-1gzz",
        "colab_type": "code",
        "cellView": "both",
        "colab": {}
      },
      "source": [
        "#@title Import modules.\n",
        "import copy\n",
        "\n",
        "import acme\n",
        "from acme import environment_loop\n",
        "from acme import specs\n",
        "from acme.tf import networks\n",
        "from acme import types\n",
        "from acme import wrappers\n",
        "from acme.adders import reverb as adders\n",
        "from acme.agents.tf import actors as actors\n",
        "from acme.datasets import reverb as datasets\n",
        "from acme.agents.tf import d4pg\n",
        "from acme.agents import agent\n",
        "from acme.tf import utils as tf2_utils\n",
        "from acme.utils import loggers\n",
        "\n",
        "\n",
        "from hb.bots import deltabot\n",
        "from hb.market_env import bs_euro_hedge_env\n",
        "import numpy as np\n",
        "from typing import Dict, Sequence\n",
        "import tensorflow as tf\n",
        "import sonnet as snt\n",
        "import matplotlib.pyplot as plt\n",
        "\n",
        "import reverb"
      ],
      "execution_count": null,
      "outputs": []
    },
    {
      "cell_type": "code",
      "metadata": {
        "id": "wGpxgmw21fEf",
        "colab_type": "code",
        "colab": {}
      },
      "source": [
        "environment = wrappers.SinglePrecisionWrapper(bs_euro_hedge_env.BSEuroHedgeEnv(\n",
        "            episode_steps=30,\n",
        "            option_maturity=30./365.,\n",
        "            option_holding=-1_000,\n",
        "            max_sell_action=-1_000,\n",
        "            max_buy_action=1_000,\n",
        "            trading_cost_pct=0.0,\n",
        "    ))\n"
      ],
      "execution_count": null,
      "outputs": []
    },
    {
      "cell_type": "code",
      "metadata": {
        "id": "FynjfkAD6csJ",
        "colab_type": "code",
        "colab": {
          "base_uri": "https://localhost:8080/",
          "height": 301
        },
        "outputId": "be71d303-e5a9-4d7c-ca33-a9ae17568dff"
      },
      "source": [
        "actor = deltabot.DeltaHedgeActor(environment.action_spec())\n",
        "num_episode = 1\n",
        "for episode in range(num_episode):\n",
        "    pnl = np.array([])\n",
        "    timestep = environment.reset()\n",
        "\n",
        "    while not timestep.last():\n",
        "        action = actor.select_action(timestep.observation)\n",
        "        # print(action)\n",
        "        timestep = environment.step(action)\n",
        "        pnl = np.append(pnl, timestep.reward)\n",
        "\n",
        "    plt.plot(pnl)\n",
        "    print('PnL Mean: %s' % str(np.mean(pnl)))\n",
        "    print('PnL Std:  %s' % str(np.std(pnl)))\n"
      ],
      "execution_count": null,
      "outputs": [
        {
          "output_type": "stream",
          "text": [
            "PnL Mean: 39.25319770177205\n",
            "PnL Std:  68.92717086074738\n"
          ],
          "name": "stdout"
        },
        {
          "output_type": "display_data",
          "data": {
            "image/png": "[encoded data removed]",
            "text/plain": [
              "<Figure size 432x288 with 1 Axes>"
            ]
          },
          "metadata": {
            "tags": [],
            "needs_background": "light"
          }
        }
      ]
    },
    {
      "cell_type": "code",
      "metadata": {
        "id": "h5SW3zQg0ih2",
        "colab_type": "code",
        "colab": {}
      },
      "source": [
        "def make_networks(\n",
        "        action_spec: types.NestedSpec,\n",
        "        policy_layer_sizes: Sequence[int] = (300, 200),\n",
        "        critic_layer_sizes: Sequence[int] = (400, 300),\n",
        "        vmin: float = -150.,\n",
        "        vmax: float = 150.,\n",
        "        num_atoms: int = 51,\n",
        ") -> Dict[str, snt.Module]:\n",
        "    \"\"\"Creates networks used by the agent.\"\"\"\n",
        "\n",
        "    num_dimensions = np.prod(action_spec.shape, dtype=int)\n",
        "    policy_layer_sizes = list(policy_layer_sizes) + [num_dimensions]\n",
        "\n",
        "    policy_network = snt.Sequential(\n",
        "        [networks.LayerNormMLP(policy_layer_sizes), tf.tanh])\n",
        "    behavior_network = snt.Sequential(\n",
        "        [networks.LayerNormMLP(policy_layer_sizes), tf.tanh] + \n",
        "        [networks.ClippedGaussian(0.3),\n",
        "                      networks.ClipToSpec(action_spec)]\n",
        "    )\n",
        "    critic_network = snt.Sequential([\n",
        "        networks.CriticMultiplexer(\n",
        "            critic_network=networks.LayerNormMLP(\n",
        "                critic_layer_sizes, activate_final=True)),\n",
        "        networks.DiscreteValuedHead(vmin, vmax, num_atoms)\n",
        "    ])\n",
        "\n",
        "    return {\n",
        "        'policy': policy_network,\n",
        "        'behavior': behavior_network,\n",
        "        'critic': critic_network,\n",
        "    }\n"
      ],
      "execution_count": null,
      "outputs": []
    },
    {
      "cell_type": "code",
      "metadata": {
        "id": "yL8Hm0kA1obL",
        "colab_type": "code",
        "colab": {}
      },
      "source": [
        "environment_spec = specs.make_environment_spec(environment)\n",
        "action_spec = environment_spec.actions\n",
        "\n",
        "# Create the networks.\n",
        "agent_networks = make_networks(environment_spec.actions)\n",
        "policy_network = agent_networks['policy']\n",
        "behavior_network = agent_networks['behavior']"
      ],
      "execution_count": null,
      "outputs": []
    },
    {
      "cell_type": "code",
      "metadata": {
        "id": "CuqkcOLr_Td5",
        "colab_type": "code",
        "colab": {}
      },
      "source": [
        "replay_buffer = reverb.Table(\n",
        "    name=adders.DEFAULT_PRIORITY_TABLE,\n",
        "    max_size=1000000,\n",
        "    remover=reverb.selectors.Fifo(),\n",
        "    sampler=reverb.selectors.Uniform(),\n",
        "    rate_limiter=reverb.rate_limiters.MinSize(min_size_to_sample=1))\n",
        "\n",
        "replay_server = reverb.Server([replay_buffer], port=None)\n",
        "replay_server_address = 'localhost:%d' % replay_server.port"
      ],
      "execution_count": null,
      "outputs": []
    },
    {
      "cell_type": "code",
      "metadata": {
        "id": "iUvDeC3a_Ycz",
        "colab_type": "code",
        "colab": {}
      },
      "source": [
        "adder = adders.NStepTransitionAdder(\n",
        "    client=reverb.Client(replay_server_address),\n",
        "    n_step=5,\n",
        "    discount=0.99)"
      ],
      "execution_count": null,
      "outputs": []
    },
    {
      "cell_type": "code",
      "metadata": {
        "id": "fb_8vYNL_aus",
        "colab_type": "code",
        "colab": {
          "base_uri": "https://localhost:8080/",
          "height": 301
        },
        "outputId": "756ca586-81fe-4fb8-8c3f-247659e36c1e"
      },
      "source": [
        "actor = actors.FeedForwardActor(policy_network)\n",
        "num_episode = 1\n",
        "for episode in range(num_episode):\n",
        "    pnl = np.array([])\n",
        "    timestep = environment.reset()\n",
        "    adder.add_first(timestep)\n",
        "\n",
        "    while not timestep.last():\n",
        "        action = actor.select_action(timestep.observation)\n",
        "        timestep = environment.step(action)\n",
        "        adder.add(action=action, next_timestep=timestep)\n",
        "        pnl = np.append(pnl, timestep.reward)\n",
        "\n",
        "    plt.plot(pnl)\n",
        "    print('PnL Mean: %s' % str(np.mean(pnl)))\n",
        "    print('PnL Std:  %s' % str(np.std(pnl)))"
      ],
      "execution_count": null,
      "outputs": [
        {
          "output_type": "stream",
          "text": [
            "PnL Mean: 5.0399582862854\n",
            "PnL Std:  303.83484256317\n"
          ],
          "name": "stdout"
        },
        {
          "output_type": "display_data",
          "data": {
            "image/png": "[encoded data removed]",
            "text/plain": [
              "<Figure size 432x288 with 1 Axes>"
            ]
          },
          "metadata": {
            "tags": [],
            "needs_background": "light"
          }
        }
      ]
    },
    {
      "cell_type": "code",
      "metadata": {
        "id": "FL9bFgCm_0ha",
        "colab_type": "code",
        "colab": {
          "base_uri": "https://localhost:8080/",
          "height": 301
        },
        "outputId": "3786d8d6-706b-4e56-e545-e3a69248829e"
      },
      "source": [
        "actor = actors.FeedForwardActor(policy_network=behavior_network, adder=adder)\n",
        "num_episode = 1\n",
        "\n",
        "for episode in range(num_episode):\n",
        "    pnl = np.array([])\n",
        "    timestep = environment.reset()\n",
        "    actor.observe_first(timestep)\n",
        "\n",
        "    while not timestep.last():\n",
        "        action = actor.select_action(timestep.observation)\n",
        "        timestep = environment.step(action)\n",
        "        actor.observe(action=action, next_timestep=timestep)\n",
        "        pnl = np.append(pnl, timestep.reward)\n",
        "\n",
        "    plt.plot(pnl)\n",
        "    print('PnL Mean: %s' % str(np.mean(pnl)))\n",
        "    print('PnL Std:  %s' % str(np.std(pnl)))"
      ],
      "execution_count": null,
      "outputs": [
        {
          "output_type": "stream",
          "text": [
            "PnL Mean: -81.63808161417643\n",
            "PnL Std:  733.0077200989441\n"
          ],
          "name": "stdout"
        },
        {
          "output_type": "display_data",
          "data": {
            "image/png": "[encoded data removed]",
            "text/plain": [
              "<Figure size 432x288 with 1 Axes>"
            ]
          },
          "metadata": {
            "tags": [],
            "needs_background": "light"
          }
        }
      ]
    },
    {
      "cell_type": "code",
      "metadata": {
        "id": "vb1aPbQxBUXD",
        "colab_type": "code",
        "colab": {}
      },
      "source": [
        "dataset = datasets.make_dataset(\n",
        "    client=reverb.TFClient(server_address=replay_server_address),\n",
        "    batch_size=256,\n",
        "    environment_spec=environment_spec,\n",
        "    transition_adder=True)"
      ],
      "execution_count": null,
      "outputs": []
    },
    {
      "cell_type": "code",
      "metadata": {
        "id": "VJhWvMyGBqge",
        "colab_type": "code",
        "colab": {}
      },
      "source": [
        "critic_network = agent_networks['critic']\n",
        "# Create the target networks\n",
        "target_policy_network = copy.deepcopy(policy_network)\n",
        "target_critic_network = copy.deepcopy(critic_network)\n",
        "\n",
        "# We must create the variables in the networks before passing them to learner.\n",
        "tf2_utils.create_variables(network=policy_network,\n",
        "                           input_spec=[environment_spec.observations])\n",
        "tf2_utils.create_variables(network=critic_network,\n",
        "                           input_spec=[environment_spec.observations,\n",
        "                                       environment_spec.actions])\n",
        "tf2_utils.create_variables(network=target_policy_network,\n",
        "                           input_spec=[environment_spec.observations])\n",
        "tf2_utils.create_variables(network=target_critic_network,\n",
        "                           input_spec=[environment_spec.observations,\n",
        "                                       environment_spec.actions])"
      ],
      "execution_count": null,
      "outputs": []
    },
    {
      "cell_type": "code",
      "metadata": {
        "id": "e2XosfeLD2KE",
        "colab_type": "code",
        "colab": {}
      },
      "source": [
        "learner = d4pg.D4PGLearner(policy_network=policy_network,\n",
        "                           critic_network=critic_network,\n",
        "                           target_policy_network=target_policy_network,\n",
        "                           target_critic_network=target_critic_network,\n",
        "                           dataset=dataset,\n",
        "                           discount=0.99,\n",
        "                           target_update_period=100,\n",
        "                           policy_optimizer=snt.optimizers.Adam(1e-4),\n",
        "                           critic_optimizer=snt.optimizers.Adam(1e-4),\n",
        "                           # Log learner updates to console every 10 seconds.\n",
        "                           logger=loggers.TerminalLogger(time_delta=10.),\n",
        "                           checkpoint=False)"
      ],
      "execution_count": null,
      "outputs": []
    },
    {
      "cell_type": "code",
      "metadata": {
        "cellView": "both",
        "colab_type": "code",
        "id": "zC0PgbeyHSSP",
        "colab": {}
      },
      "source": [
        "num_training_episodes =  10000 # @param {type: \"integer\"}\n",
        "min_actor_steps_before_learning =   100# @param {type: \"integer\"}\n",
        "num_actor_steps_per_iteration =   90 # @param {type: \"integer\"}\n",
        "num_learner_steps_per_iteration = 1  # @param {type: \"integer\"}\n",
        "\n",
        "learner_steps_taken = 0\n",
        "actor_steps_taken = 0\n",
        "for episode in range(num_training_episodes):\n",
        "  \n",
        "  timestep = environment.reset()\n",
        "  actor.observe_first(timestep)\n",
        "  episode_return = 0\n",
        "\n",
        "  while not timestep.last():\n",
        "    # Get an action from the agent and step in the environment.\n",
        "    action = actor.select_action(timestep.observation)\n",
        "    next_timestep = environment.step(action)\n",
        "\n",
        "    # Record the transition.\n",
        "    actor.observe(action=action, next_timestep=next_timestep)\n",
        "\n",
        "    # Book-keeping.\n",
        "    episode_return += next_timestep.reward\n",
        "    actor_steps_taken += 1\n",
        "    timestep = next_timestep\n",
        "\n",
        "    # See if we have some learning to do.\n",
        "    if (actor_steps_taken >= min_actor_steps_before_learning and\n",
        "        actor_steps_taken % num_actor_steps_per_iteration == 0):\n",
        "      # Learn.\n",
        "      for learner_step in range(num_learner_steps_per_iteration):\n",
        "        learner.step()\n",
        "      learner_steps_taken += num_learner_steps_per_iteration\n",
        "\n",
        "  # Log quantities.\n",
        "  print('Episode: %d | Return: %f | Learner steps: %d | Actor steps: %d'%(\n",
        "      episode, episode_return, learner_steps_taken, actor_steps_taken))"
      ],
      "execution_count": null,
      "outputs": []
    },
    {
      "cell_type": "code",
      "metadata": {
        "id": "jR_nofE8E8ZZ",
        "colab_type": "code",
        "colab": {}
      },
      "source": [
        "d4pg_agent = agent.Agent(actor=actor,\n",
        "                         learner=learner,\n",
        "                         min_observations=256,\n",
        "                         observations_per_step=8.)"
      ],
      "execution_count": null,
      "outputs": []
    },
    {
      "cell_type": "code",
      "metadata": {
        "id": "w6bLBzdB7JhK",
        "colab_type": "code",
        "colab": {}
      },
      "source": [
        "# Construct the agent.\n",
        "d4pg_agent_one_stop = d4pg.D4PG(\n",
        "    environment_spec=environment_spec,\n",
        "    policy_network=agent_networks['policy'],\n",
        "    critic_network=agent_networks['critic'],\n",
        "    batch_size=256,\n",
        "    samples_per_insert=32,\n",
        "    min_replay_size=256,\n",
        ")"
      ],
      "execution_count": null,
      "outputs": []
    },
    {
      "cell_type": "code",
      "metadata": {
        "id": "KwI7PPCA7RV5",
        "colab_type": "code",
        "colab": {
          "base_uri": "https://localhost:8080/",
          "height": 1000
        },
        "outputId": "e2eaf63c-8742-4d9c-9a5d-00ace09f954c"
      },
      "source": [
        "# Try running the environment loop. We have no assertions here because all\n",
        "# we care about is that the agent runs without raising any errors.\n",
        "loop = acme.EnvironmentLoop(environment, d4pg_agent)\n",
        "loop.run(num_episodes=1000)"
      ],
      "execution_count": null,
      "outputs": [
        {
          "output_type": "stream",
          "text": [
            "Critic Loss = 3.571 | Policy Loss = 0.000 | Steps = 38 | Walltime = 463.016\n",
            "[Environment Loop] Episode Length = 30 | Episode Return = -3927.419 | Episodes = 8 | Steps = 240 | Steps Per Second = 147.821\n",
            "[Environment Loop] Episode Length = 30 | Episode Return = -3887.613 | Episodes = 13 | Steps = 390 | Steps Per Second = 138.920\n",
            "[Environment Loop] Episode Length = 30 | Episode Return = -2333.605 | Episodes = 18 | Steps = 540 | Steps Per Second = 146.355\n",
            "[Environment Loop] Episode Length = 30 | Episode Return = -8406.706 | Episodes = 24 | Steps = 720 | Steps Per Second = 147.208\n",
            "[Environment Loop] Episode Length = 30 | Episode Return = -7529.027 | Episodes = 29 | Steps = 870 | Steps Per Second = 144.004\n",
            "[Environment Loop] Episode Length = 30 | Episode Return = -5773.616 | Episodes = 35 | Steps = 1050 | Steps Per Second = 187.853\n",
            "[Environment Loop] Episode Length = 30 | Episode Return = 2064.011 | Episodes = 41 | Steps = 1230 | Steps Per Second = 145.723\n",
            "[Environment Loop] Episode Length = 30 | Episode Return = -819.830 | Episodes = 46 | Steps = 1380 | Steps Per Second = 131.005\n",
            "[Environment Loop] Episode Length = 30 | Episode Return = -121.480 | Episodes = 52 | Steps = 1560 | Steps Per Second = 138.229\n",
            "Critic Loss = 3.319 | Policy Loss = 0.000 | Steps = 225 | Walltime = 473.023\n",
            "[Environment Loop] Episode Length = 30 | Episode Return = 192.299 | Episodes = 58 | Steps = 1740 | Steps Per Second = 153.007\n",
            "[Environment Loop] Episode Length = 30 | Episode Return = 2230.989 | Episodes = 64 | Steps = 1920 | Steps Per Second = 152.804\n",
            "[Environment Loop] Episode Length = 30 | Episode Return = 2226.143 | Episodes = 70 | Steps = 2100 | Steps Per Second = 152.479\n",
            "[Environment Loop] Episode Length = 30 | Episode Return = 1852.471 | Episodes = 76 | Steps = 2280 | Steps Per Second = 144.263\n",
            "[Environment Loop] Episode Length = 30 | Episode Return = -415.745 | Episodes = 82 | Steps = 2460 | Steps Per Second = 153.478\n",
            "[Environment Loop] Episode Length = 30 | Episode Return = -3239.386 | Episodes = 88 | Steps = 2640 | Steps Per Second = 140.411\n",
            "[Environment Loop] Episode Length = 30 | Episode Return = -1222.298 | Episodes = 94 | Steps = 2820 | Steps Per Second = 146.863\n",
            "[Environment Loop] Episode Length = 30 | Episode Return = 2968.084 | Episodes = 100 | Steps = 3000 | Steps Per Second = 157.976\n",
            "Critic Loss = 3.318 | Policy Loss = 0.000 | Steps = 418 | Walltime = 483.047\n",
            "[Environment Loop] Episode Length = 30 | Episode Return = 2695.981 | Episodes = 106 | Steps = 3180 | Steps Per Second = 145.273\n",
            "[Environment Loop] Episode Length = 30 | Episode Return = 2108.443 | Episodes = 112 | Steps = 3360 | Steps Per Second = 153.333\n",
            "[Environment Loop] Episode Length = 30 | Episode Return = 1729.780 | Episodes = 118 | Steps = 3540 | Steps Per Second = 152.743\n",
            "[Environment Loop] Episode Length = 30 | Episode Return = 2449.427 | Episodes = 124 | Steps = 3720 | Steps Per Second = 150.306\n",
            "[Environment Loop] Episode Length = 30 | Episode Return = -237.929 | Episodes = 129 | Steps = 3870 | Steps Per Second = 86.481\n",
            "[Environment Loop] Episode Length = 30 | Episode Return = -3444.403 | Episodes = 133 | Steps = 3990 | Steps Per Second = 86.769\n",
            "[Environment Loop] Episode Length = 30 | Episode Return = -4602.840 | Episodes = 136 | Steps = 4080 | Steps Per Second = 92.163\n",
            "[Environment Loop] Episode Length = 30 | Episode Return = -655.999 | Episodes = 141 | Steps = 4230 | Steps Per Second = 157.196\n",
            "[Environment Loop] Episode Length = 30 | Episode Return = -3071.611 | Episodes = 147 | Steps = 4410 | Steps Per Second = 191.468\n",
            "Critic Loss = 2.128 | Policy Loss = 0.000 | Steps = 588 | Walltime = 493.068\n",
            "[Environment Loop] Episode Length = 30 | Episode Return = 1677.368 | Episodes = 153 | Steps = 4590 | Steps Per Second = 155.205\n",
            "[Environment Loop] Episode Length = 30 | Episode Return = 456.615 | Episodes = 159 | Steps = 4770 | Steps Per Second = 189.804\n",
            "[Environment Loop] Episode Length = 30 | Episode Return = -13286.397 | Episodes = 165 | Steps = 4950 | Steps Per Second = 155.917\n",
            "[Environment Loop] Episode Length = 30 | Episode Return = 2058.053 | Episodes = 171 | Steps = 5130 | Steps Per Second = 196.703\n",
            "[Environment Loop] Episode Length = 30 | Episode Return = -7561.083 | Episodes = 177 | Steps = 5310 | Steps Per Second = 154.381\n",
            "[Environment Loop] Episode Length = 30 | Episode Return = 2270.044 | Episodes = 183 | Steps = 5490 | Steps Per Second = 188.152\n",
            "[Environment Loop] Episode Length = 30 | Episode Return = -2059.600 | Episodes = 189 | Steps = 5670 | Steps Per Second = 148.774\n",
            "[Environment Loop] Episode Length = 30 | Episode Return = -4291.158 | Episodes = 195 | Steps = 5850 | Steps Per Second = 187.996\n",
            "[Environment Loop] Episode Length = 30 | Episode Return = -9609.943 | Episodes = 201 | Steps = 6030 | Steps Per Second = 151.306\n",
            "Critic Loss = 1.940 | Policy Loss = 0.004 | Steps = 788 | Walltime = 503.078\n",
            "[Environment Loop] Episode Length = 30 | Episode Return = 1880.285 | Episodes = 207 | Steps = 6210 | Steps Per Second = 191.384\n",
            "[Environment Loop] Episode Length = 30 | Episode Return = 2379.832 | Episodes = 213 | Steps = 6390 | Steps Per Second = 152.487\n",
            "[Environment Loop] Episode Length = 30 | Episode Return = 1771.768 | Episodes = 219 | Steps = 6570 | Steps Per Second = 195.546\n",
            "[Environment Loop] Episode Length = 30 | Episode Return = -1726.813 | Episodes = 224 | Steps = 6720 | Steps Per Second = 117.514\n",
            "[Environment Loop] Episode Length = 30 | Episode Return = 2444.114 | Episodes = 229 | Steps = 6870 | Steps Per Second = 156.661\n",
            "[Environment Loop] Episode Length = 30 | Episode Return = 1714.654 | Episodes = 235 | Steps = 7050 | Steps Per Second = 188.350\n",
            "[Environment Loop] Episode Length = 30 | Episode Return = 1387.647 | Episodes = 241 | Steps = 7230 | Steps Per Second = 146.478\n",
            "[Environment Loop] Episode Length = 30 | Episode Return = -3123.804 | Episodes = 247 | Steps = 7410 | Steps Per Second = 190.869\n",
            "[Environment Loop] Episode Length = 30 | Episode Return = 2459.492 | Episodes = 253 | Steps = 7590 | Steps Per Second = 138.603\n",
            "Critic Loss = 2.184 | Policy Loss = 0.010 | Steps = 982 | Walltime = 513.114\n",
            "[Environment Loop] Episode Length = 30 | Episode Return = -9358.997 | Episodes = 259 | Steps = 7770 | Steps Per Second = 192.627\n",
            "[Environment Loop] Episode Length = 30 | Episode Return = 2939.712 | Episodes = 265 | Steps = 7950 | Steps Per Second = 116.233\n",
            "[Environment Loop] Episode Length = 30 | Episode Return = 1705.298 | Episodes = 268 | Steps = 8040 | Steps Per Second = 75.481\n",
            "[Environment Loop] Episode Length = 30 | Episode Return = -3925.985 | Episodes = 272 | Steps = 8160 | Steps Per Second = 82.970\n",
            "[Environment Loop] Episode Length = 30 | Episode Return = -9120.592 | Episodes = 275 | Steps = 8250 | Steps Per Second = 168.278\n",
            "[Environment Loop] Episode Length = 30 | Episode Return = 2211.668 | Episodes = 281 | Steps = 8430 | Steps Per Second = 145.360\n",
            "[Environment Loop] Episode Length = 30 | Episode Return = 1858.805 | Episodes = 287 | Steps = 8610 | Steps Per Second = 185.304\n",
            "[Environment Loop] Episode Length = 30 | Episode Return = -5587.587 | Episodes = 293 | Steps = 8790 | Steps Per Second = 153.220\n",
            "[Environment Loop] Episode Length = 30 | Episode Return = -3409.262 | Episodes = 298 | Steps = 8940 | Steps Per Second = 136.382\n",
            "Critic Loss = 2.173 | Policy Loss = 0.002 | Steps = 1145 | Walltime = 523.168\n",
            "[Environment Loop] Episode Length = 30 | Episode Return = 2012.700 | Episodes = 304 | Steps = 9120 | Steps Per Second = 146.612\n",
            "[Environment Loop] Episode Length = 30 | Episode Return = 1604.549 | Episodes = 309 | Steps = 9270 | Steps Per Second = 134.355\n",
            "[Environment Loop] Episode Length = 30 | Episode Return = 2066.036 | Episodes = 314 | Steps = 9420 | Steps Per Second = 136.043\n",
            "[Environment Loop] Episode Length = 30 | Episode Return = 2290.739 | Episodes = 319 | Steps = 9570 | Steps Per Second = 158.890\n",
            "[Environment Loop] Episode Length = 30 | Episode Return = -3388.871 | Episodes = 324 | Steps = 9720 | Steps Per Second = 134.583\n",
            "[Environment Loop] Episode Length = 30 | Episode Return = 1456.362 | Episodes = 329 | Steps = 9870 | Steps Per Second = 136.101\n",
            "[Environment Loop] Episode Length = 30 | Episode Return = 1695.827 | Episodes = 334 | Steps = 10020 | Steps Per Second = 127.983\n",
            "[Environment Loop] Episode Length = 30 | Episode Return = -676.871 | Episodes = 339 | Steps = 10170 | Steps Per Second = 155.146\n",
            "[Environment Loop] Episode Length = 30 | Episode Return = 2394.356 | Episodes = 344 | Steps = 10320 | Steps Per Second = 131.961\n",
            "Critic Loss = 2.004 | Policy Loss = 0.008 | Steps = 1318 | Walltime = 533.190\n",
            "[Environment Loop] Episode Length = 30 | Episode Return = 3306.593 | Episodes = 349 | Steps = 10470 | Steps Per Second = 144.250\n",
            "[Environment Loop] Episode Length = 30 | Episode Return = 2083.843 | Episodes = 354 | Steps = 10620 | Steps Per Second = 131.881\n",
            "[Environment Loop] Episode Length = 30 | Episode Return = 2656.137 | Episodes = 359 | Steps = 10770 | Steps Per Second = 167.987\n",
            "[Environment Loop] Episode Length = 30 | Episode Return = 1452.925 | Episodes = 364 | Steps = 10920 | Steps Per Second = 130.072\n",
            "[Environment Loop] Episode Length = 30 | Episode Return = 569.639 | Episodes = 369 | Steps = 11070 | Steps Per Second = 127.358\n",
            "[Environment Loop] Episode Length = 30 | Episode Return = -9396.506 | Episodes = 374 | Steps = 11220 | Steps Per Second = 121.629\n",
            "[Environment Loop] Episode Length = 30 | Episode Return = -4218.532 | Episodes = 379 | Steps = 11370 | Steps Per Second = 162.090\n",
            "[Environment Loop] Episode Length = 30 | Episode Return = -4969.562 | Episodes = 384 | Steps = 11520 | Steps Per Second = 131.809\n",
            "[Environment Loop] Episode Length = 30 | Episode Return = 1141.353 | Episodes = 389 | Steps = 11670 | Steps Per Second = 131.901\n",
            "Critic Loss = 2.038 | Policy Loss = 0.058 | Steps = 1489 | Walltime = 543.218\n",
            "[Environment Loop] Episode Length = 30 | Episode Return = 108.619 | Episodes = 394 | Steps = 11820 | Steps Per Second = 125.344\n",
            "[Environment Loop] Episode Length = 30 | Episode Return = 1435.353 | Episodes = 399 | Steps = 11970 | Steps Per Second = 166.820\n",
            "[Environment Loop] Episode Length = 30 | Episode Return = 1795.810 | Episodes = 403 | Steps = 12090 | Steps Per Second = 90.801\n",
            "[Environment Loop] Episode Length = 30 | Episode Return = 1644.923 | Episodes = 406 | Steps = 12180 | Steps Per Second = 71.284\n",
            "[Environment Loop] Episode Length = 30 | Episode Return = 1594.763 | Episodes = 409 | Steps = 12270 | Steps Per Second = 65.798\n",
            "[Environment Loop] Episode Length = 30 | Episode Return = 3071.797 | Episodes = 414 | Steps = 12420 | Steps Per Second = 145.050\n",
            "[Environment Loop] Episode Length = 30 | Episode Return = -4945.875 | Episodes = 420 | Steps = 12600 | Steps Per Second = 138.288\n",
            "[Environment Loop] Episode Length = 30 | Episode Return = 482.149 | Episodes = 425 | Steps = 12750 | Steps Per Second = 137.329\n",
            "[Environment Loop] Episode Length = 30 | Episode Return = 870.777 | Episodes = 430 | Steps = 12900 | Steps Per Second = 141.245\n",
            "Critic Loss = 1.896 | Policy Loss = 0.066 | Steps = 1639 | Walltime = 553.267\n",
            "[Environment Loop] Episode Length = 30 | Episode Return = 1882.204 | Episodes = 435 | Steps = 13050 | Steps Per Second = 165.526\n",
            "[Environment Loop] Episode Length = 30 | Episode Return = 2261.668 | Episodes = 440 | Steps = 13200 | Steps Per Second = 123.804\n",
            "[Environment Loop] Episode Length = 30 | Episode Return = 2710.857 | Episodes = 445 | Steps = 13350 | Steps Per Second = 126.347\n",
            "[Environment Loop] Episode Length = 30 | Episode Return = 1997.520 | Episodes = 450 | Steps = 13500 | Steps Per Second = 137.217\n",
            "[Environment Loop] Episode Length = 30 | Episode Return = -13984.887 | Episodes = 455 | Steps = 13650 | Steps Per Second = 171.605\n",
            "[Environment Loop] Episode Length = 30 | Episode Return = -8768.516 | Episodes = 460 | Steps = 13800 | Steps Per Second = 139.113\n",
            "[Environment Loop] Episode Length = 30 | Episode Return = 2083.939 | Episodes = 465 | Steps = 13950 | Steps Per Second = 129.409\n",
            "[Environment Loop] Episode Length = 30 | Episode Return = 316.414 | Episodes = 470 | Steps = 14100 | Steps Per Second = 132.080\n",
            "[Environment Loop] Episode Length = 30 | Episode Return = 1832.078 | Episodes = 475 | Steps = 14250 | Steps Per Second = 161.486\n",
            "Critic Loss = 2.049 | Policy Loss = 0.095 | Steps = 1811 | Walltime = 563.300\n",
            "[Environment Loop] Episode Length = 30 | Episode Return = 1177.397 | Episodes = 480 | Steps = 14400 | Steps Per Second = 134.195\n",
            "[Environment Loop] Episode Length = 30 | Episode Return = -1528.041 | Episodes = 485 | Steps = 14550 | Steps Per Second = 136.994\n",
            "[Environment Loop] Episode Length = 30 | Episode Return = 2480.033 | Episodes = 490 | Steps = 14700 | Steps Per Second = 128.043\n",
            "[Environment Loop] Episode Length = 30 | Episode Return = 1271.963 | Episodes = 495 | Steps = 14850 | Steps Per Second = 168.395\n",
            "[Environment Loop] Episode Length = 30 | Episode Return = 2086.138 | Episodes = 499 | Steps = 14970 | Steps Per Second = 116.875\n",
            "[Environment Loop] Episode Length = 30 | Episode Return = -11283.880 | Episodes = 504 | Steps = 15120 | Steps Per Second = 113.089\n",
            "[Environment Loop] Episode Length = 30 | Episode Return = 1478.880 | Episodes = 509 | Steps = 15270 | Steps Per Second = 129.645\n",
            "[Environment Loop] Episode Length = 30 | Episode Return = 1966.978 | Episodes = 514 | Steps = 15420 | Steps Per Second = 124.722\n",
            "[Environment Loop] Episode Length = 30 | Episode Return = 2644.553 | Episodes = 519 | Steps = 15570 | Steps Per Second = 146.121\n",
            "Critic Loss = 1.813 | Policy Loss = 0.059 | Steps = 1974 | Walltime = 573.339\n",
            "[Environment Loop] Episode Length = 30 | Episode Return = 1991.526 | Episodes = 524 | Steps = 15720 | Steps Per Second = 129.785\n",
            "[Environment Loop] Episode Length = 30 | Episode Return = -147.900 | Episodes = 529 | Steps = 15870 | Steps Per Second = 130.305\n",
            "[Environment Loop] Episode Length = 30 | Episode Return = 2085.128 | Episodes = 534 | Steps = 16020 | Steps Per Second = 119.318\n",
            "[Environment Loop] Episode Length = 30 | Episode Return = 1488.137 | Episodes = 539 | Steps = 16170 | Steps Per Second = 82.428\n",
            "[Environment Loop] Episode Length = 30 | Episode Return = 1178.813 | Episodes = 542 | Steps = 16260 | Steps Per Second = 73.871\n",
            "[Environment Loop] Episode Length = 30 | Episode Return = -6054.145 | Episodes = 546 | Steps = 16380 | Steps Per Second = 81.710\n",
            "[Environment Loop] Episode Length = 30 | Episode Return = 2256.366 | Episodes = 550 | Steps = 16500 | Steps Per Second = 155.305\n",
            "[Environment Loop] Episode Length = 30 | Episode Return = 3597.312 | Episodes = 556 | Steps = 16680 | Steps Per Second = 146.437\n",
            "Critic Loss = 1.839 | Policy Loss = 0.061 | Steps = 2122 | Walltime = 583.386\n",
            "[Environment Loop] Episode Length = 30 | Episode Return = 2190.462 | Episodes = 562 | Steps = 16860 | Steps Per Second = 140.470\n",
            "[Environment Loop] Episode Length = 30 | Episode Return = 1640.456 | Episodes = 567 | Steps = 17010 | Steps Per Second = 162.521\n",
            "[Environment Loop] Episode Length = 30 | Episode Return = 1845.053 | Episodes = 572 | Steps = 17160 | Steps Per Second = 133.250\n",
            "[Environment Loop] Episode Length = 30 | Episode Return = 1949.244 | Episodes = 577 | Steps = 17310 | Steps Per Second = 138.756\n",
            "[Environment Loop] Episode Length = 30 | Episode Return = -4733.907 | Episodes = 582 | Steps = 17460 | Steps Per Second = 146.412\n",
            "[Environment Loop] Episode Length = 30 | Episode Return = 1566.471 | Episodes = 587 | Steps = 17610 | Steps Per Second = 168.824\n",
            "[Environment Loop] Episode Length = 30 | Episode Return = 1749.769 | Episodes = 592 | Steps = 17760 | Steps Per Second = 130.295\n",
            "[Environment Loop] Episode Length = 30 | Episode Return = 1765.885 | Episodes = 597 | Steps = 17910 | Steps Per Second = 140.049\n",
            "[Environment Loop] Episode Length = 30 | Episode Return = -1624.039 | Episodes = 602 | Steps = 18060 | Steps Per Second = 136.992\n",
            "Critic Loss = 1.816 | Policy Loss = 0.261 | Steps = 2301 | Walltime = 593.440\n",
            "[Environment Loop] Episode Length = 30 | Episode Return = 564.682 | Episodes = 607 | Steps = 18210 | Steps Per Second = 168.031\n",
            "[Environment Loop] Episode Length = 30 | Episode Return = -28.761 | Episodes = 612 | Steps = 18360 | Steps Per Second = 129.530\n",
            "[Environment Loop] Episode Length = 30 | Episode Return = -5171.815 | Episodes = 617 | Steps = 18510 | Steps Per Second = 135.607\n",
            "[Environment Loop] Episode Length = 30 | Episode Return = 2278.252 | Episodes = 622 | Steps = 18660 | Steps Per Second = 129.812\n",
            "[Environment Loop] Episode Length = 30 | Episode Return = -9301.220 | Episodes = 627 | Steps = 18810 | Steps Per Second = 172.121\n",
            "[Environment Loop] Episode Length = 30 | Episode Return = 2812.308 | Episodes = 633 | Steps = 18990 | Steps Per Second = 152.414\n",
            "[Environment Loop] Episode Length = 30 | Episode Return = -6350.225 | Episodes = 638 | Steps = 19140 | Steps Per Second = 140.629\n",
            "[Environment Loop] Episode Length = 30 | Episode Return = -632.952 | Episodes = 644 | Steps = 19320 | Steps Per Second = 142.649\n",
            "[Environment Loop] Episode Length = 30 | Episode Return = 2847.843 | Episodes = 649 | Steps = 19470 | Steps Per Second = 131.577\n",
            "[Environment Loop] Episode Length = 30 | Episode Return = 2958.527 | Episodes = 654 | Steps = 19620 | Steps Per Second = 140.569\n",
            "Critic Loss = 1.759 | Policy Loss = 0.461 | Steps = 2483 | Walltime = 603.457\n",
            "[Environment Loop] Episode Length = 30 | Episode Return = 2013.459 | Episodes = 660 | Steps = 19800 | Steps Per Second = 139.097\n",
            "[Environment Loop] Episode Length = 30 | Episode Return = 2338.479 | Episodes = 665 | Steps = 19950 | Steps Per Second = 143.478\n",
            "[Environment Loop] Episode Length = 30 | Episode Return = -1698.546 | Episodes = 671 | Steps = 20130 | Steps Per Second = 181.525\n",
            "[Environment Loop] Episode Length = 30 | Episode Return = 927.245 | Episodes = 676 | Steps = 20280 | Steps Per Second = 74.817\n",
            "[Environment Loop] Episode Length = 30 | Episode Return = 1112.657 | Episodes = 679 | Steps = 20370 | Steps Per Second = 116.463\n",
            "[Environment Loop] Episode Length = 30 | Episode Return = -10783.602 | Episodes = 682 | Steps = 20460 | Steps Per Second = 66.329\n",
            "[Environment Loop] Episode Length = 30 | Episode Return = 1715.826 | Episodes = 686 | Steps = 20580 | Steps Per Second = 155.355\n",
            "[Environment Loop] Episode Length = 30 | Episode Return = 1959.650 | Episodes = 692 | Steps = 20760 | Steps Per Second = 142.692\n",
            "Critic Loss = 1.549 | Policy Loss = 0.469 | Steps = 2640 | Walltime = 613.486\n",
            "[Environment Loop] Episode Length = 30 | Episode Return = 1051.357 | Episodes = 698 | Steps = 20940 | Steps Per Second = 151.151\n",
            "[Environment Loop] Episode Length = 30 | Episode Return = 838.372 | Episodes = 704 | Steps = 21120 | Steps Per Second = 148.907\n",
            "[Environment Loop] Episode Length = 30 | Episode Return = 284.681 | Episodes = 709 | Steps = 21270 | Steps Per Second = 149.365\n",
            "[Environment Loop] Episode Length = 30 | Episode Return = -5287.606 | Episodes = 715 | Steps = 21450 | Steps Per Second = 181.399\n",
            "[Environment Loop] Episode Length = 30 | Episode Return = 1764.090 | Episodes = 720 | Steps = 21600 | Steps Per Second = 146.474\n",
            "[Environment Loop] Episode Length = 30 | Episode Return = -91.968 | Episodes = 725 | Steps = 21750 | Steps Per Second = 146.190\n",
            "[Environment Loop] Episode Length = 30 | Episode Return = 1433.476 | Episodes = 730 | Steps = 21900 | Steps Per Second = 141.668\n",
            "[Environment Loop] Episode Length = 30 | Episode Return = 2316.461 | Episodes = 735 | Steps = 22050 | Steps Per Second = 166.274\n",
            "[Environment Loop] Episode Length = 30 | Episode Return = -2732.492 | Episodes = 740 | Steps = 22200 | Steps Per Second = 139.531\n",
            "[Environment Loop] Episode Length = 30 | Episode Return = -4984.973 | Episodes = 745 | Steps = 22350 | Steps Per Second = 128.711\n",
            "Critic Loss = 1.789 | Policy Loss = 0.466 | Steps = 2824 | Walltime = 623.490\n",
            "[Environment Loop] Episode Length = 30 | Episode Return = 1813.617 | Episodes = 750 | Steps = 22500 | Steps Per Second = 138.806\n",
            "[Environment Loop] Episode Length = 30 | Episode Return = -4415.941 | Episodes = 755 | Steps = 22650 | Steps Per Second = 166.978\n",
            "[Environment Loop] Episode Length = 30 | Episode Return = 180.487 | Episodes = 760 | Steps = 22800 | Steps Per Second = 137.536\n",
            "[Environment Loop] Episode Length = 30 | Episode Return = -7191.205 | Episodes = 766 | Steps = 22980 | Steps Per Second = 148.573\n",
            "[Environment Loop] Episode Length = 30 | Episode Return = 2068.807 | Episodes = 772 | Steps = 23160 | Steps Per Second = 93.344\n",
            "[Environment Loop] Episode Length = 30 | Episode Return = -1953.838 | Episodes = 777 | Steps = 23310 | Steps Per Second = 124.426\n",
            "[Environment Loop] Episode Length = 30 | Episode Return = -294.527 | Episodes = 782 | Steps = 23460 | Steps Per Second = 139.250\n",
            "[Environment Loop] Episode Length = 30 | Episode Return = 40.592 | Episodes = 787 | Steps = 23610 | Steps Per Second = 174.306\n",
            "[Environment Loop] Episode Length = 30 | Episode Return = 274.158 | Episodes = 792 | Steps = 23760 | Steps Per Second = 128.394\n",
            "Critic Loss = 1.773 | Policy Loss = 0.457 | Steps = 2998 | Walltime = 633.510\n",
            "[Environment Loop] Episode Length = 30 | Episode Return = 2513.638 | Episodes = 797 | Steps = 23910 | Steps Per Second = 132.400\n",
            "[Environment Loop] Episode Length = 30 | Episode Return = 1862.856 | Episodes = 802 | Steps = 24060 | Steps Per Second = 119.748\n",
            "[Environment Loop] Episode Length = 30 | Episode Return = 197.561 | Episodes = 807 | Steps = 24210 | Steps Per Second = 163.147\n",
            "[Environment Loop] Episode Length = 30 | Episode Return = -3924.714 | Episodes = 812 | Steps = 24360 | Steps Per Second = 71.632\n",
            "[Environment Loop] Episode Length = 30 | Episode Return = -3127.617 | Episodes = 815 | Steps = 24450 | Steps Per Second = 76.802\n",
            "[Environment Loop] Episode Length = 30 | Episode Return = 2684.978 | Episodes = 818 | Steps = 24540 | Steps Per Second = 84.213\n",
            "[Environment Loop] Episode Length = 30 | Episode Return = 1449.035 | Episodes = 822 | Steps = 24660 | Steps Per Second = 154.338\n",
            "[Environment Loop] Episode Length = 30 | Episode Return = 2952.620 | Episodes = 828 | Steps = 24840 | Steps Per Second = 150.584\n",
            "Critic Loss = 1.604 | Policy Loss = 0.468 | Steps = 3148 | Walltime = 643.512\n",
            "[Environment Loop] Episode Length = 30 | Episode Return = -1634.694 | Episodes = 834 | Steps = 25020 | Steps Per Second = 144.902\n",
            "[Environment Loop] Episode Length = 30 | Episode Return = 2010.753 | Episodes = 840 | Steps = 25200 | Steps Per Second = 146.622\n",
            "[Environment Loop] Episode Length = 30 | Episode Return = -79.523 | Episodes = 845 | Steps = 25350 | Steps Per Second = 145.808\n",
            "[Environment Loop] Episode Length = 30 | Episode Return = 2479.147 | Episodes = 851 | Steps = 25530 | Steps Per Second = 177.037\n",
            "[Environment Loop] Episode Length = 30 | Episode Return = 1789.093 | Episodes = 857 | Steps = 25710 | Steps Per Second = 142.753\n",
            "[Environment Loop] Episode Length = 30 | Episode Return = 2774.248 | Episodes = 862 | Steps = 25860 | Steps Per Second = 139.146\n",
            "[Environment Loop] Episode Length = 30 | Episode Return = 2052.356 | Episodes = 868 | Steps = 26040 | Steps Per Second = 139.837\n",
            "[Environment Loop] Episode Length = 30 | Episode Return = 1939.900 | Episodes = 873 | Steps = 26190 | Steps Per Second = 139.798\n",
            "[Environment Loop] Episode Length = 30 | Episode Return = 2465.409 | Episodes = 878 | Steps = 26340 | Steps Per Second = 139.969\n",
            "Critic Loss = 1.665 | Policy Loss = 0.464 | Steps = 3336 | Walltime = 653.552\n",
            "[Environment Loop] Episode Length = 30 | Episode Return = 1439.478 | Episodes = 883 | Steps = 26490 | Steps Per Second = 168.344\n",
            "[Environment Loop] Episode Length = 30 | Episode Return = 2945.998 | Episodes = 888 | Steps = 26640 | Steps Per Second = 135.267\n",
            "[Environment Loop] Episode Length = 30 | Episode Return = 1724.856 | Episodes = 893 | Steps = 26790 | Steps Per Second = 141.236\n",
            "[Environment Loop] Episode Length = 30 | Episode Return = -2265.643 | Episodes = 898 | Steps = 26940 | Steps Per Second = 138.653\n",
            "[Environment Loop] Episode Length = 30 | Episode Return = -1822.286 | Episodes = 903 | Steps = 27090 | Steps Per Second = 166.474\n",
            "[Environment Loop] Episode Length = 30 | Episode Return = 1328.136 | Episodes = 908 | Steps = 27240 | Steps Per Second = 140.583\n",
            "[Environment Loop] Episode Length = 30 | Episode Return = -6010.870 | Episodes = 913 | Steps = 27390 | Steps Per Second = 141.289\n",
            "[Environment Loop] Episode Length = 30 | Episode Return = -169.116 | Episodes = 918 | Steps = 27540 | Steps Per Second = 139.877\n",
            "[Environment Loop] Episode Length = 30 | Episode Return = -6758.907 | Episodes = 923 | Steps = 27690 | Steps Per Second = 174.611\n",
            "[Environment Loop] Episode Length = 30 | Episode Return = 2241.554 | Episodes = 928 | Steps = 27840 | Steps Per Second = 137.692\n",
            "Critic Loss = 1.770 | Policy Loss = 0.462 | Steps = 3513 | Walltime = 663.579\n",
            "[Environment Loop] Episode Length = 30 | Episode Return = -18878.909 | Episodes = 933 | Steps = 27990 | Steps Per Second = 144.650\n",
            "[Environment Loop] Episode Length = 30 | Episode Return = -3121.391 | Episodes = 938 | Steps = 28140 | Steps Per Second = 137.944\n",
            "[Environment Loop] Episode Length = 30 | Episode Return = 3250.512 | Episodes = 943 | Steps = 28290 | Steps Per Second = 147.633\n",
            "[Environment Loop] Episode Length = 30 | Episode Return = 1894.872 | Episodes = 948 | Steps = 28440 | Steps Per Second = 90.946\n",
            "[Environment Loop] Episode Length = 30 | Episode Return = -2630.951 | Episodes = 951 | Steps = 28530 | Steps Per Second = 82.690\n",
            "[Environment Loop] Episode Length = 30 | Episode Return = 2538.440 | Episodes = 954 | Steps = 28620 | Steps Per Second = 71.254\n",
            "[Environment Loop] Episode Length = 30 | Episode Return = 2145.931 | Episodes = 957 | Steps = 28710 | Steps Per Second = 102.998\n",
            "[Environment Loop] Episode Length = 30 | Episode Return = -2010.493 | Episodes = 963 | Steps = 28890 | Steps Per Second = 195.686\n",
            "[Environment Loop] Episode Length = 30 | Episode Return = 1706.857 | Episodes = 969 | Steps = 29070 | Steps Per Second = 150.617\n",
            "Critic Loss = 1.569 | Policy Loss = 0.449 | Steps = 3668 | Walltime = 673.614\n",
            "[Environment Loop] Episode Length = 30 | Episode Return = -2503.847 | Episodes = 975 | Steps = 29250 | Steps Per Second = 180.415\n",
            "[Environment Loop] Episode Length = 30 | Episode Return = -10124.362 | Episodes = 980 | Steps = 29400 | Steps Per Second = 145.547\n",
            "[Environment Loop] Episode Length = 30 | Episode Return = -1222.718 | Episodes = 985 | Steps = 29550 | Steps Per Second = 139.737\n",
            "[Environment Loop] Episode Length = 30 | Episode Return = 2409.283 | Episodes = 990 | Steps = 29700 | Steps Per Second = 151.670\n",
            "[Environment Loop] Episode Length = 30 | Episode Return = 1962.319 | Episodes = 996 | Steps = 29880 | Steps Per Second = 148.983\n"
          ],
          "name": "stdout"
        }
      ]
    },
    {
      "cell_type": "code",
      "metadata": {
        "id": "Ck2el97s7TER",
        "colab_type": "code",
        "colab": {}
      },
      "source": [
        "num_episode = 1\n",
        "for episode in range(num_episode):\n",
        "    pnl = np.array([])\n",
        "    timestep = environment.reset()\n",
        "\n",
        "    while not timestep.last():\n",
        "        action = d4pg_agent.select_action(timestep.observation)\n",
        "        print(action)\n",
        "        timestep = environment.step(action)\n",
        "        pnl = np.append(pnl, timestep.reward)\n",
        "\n",
        "    plt.plot(pnl)\n",
        "    print('PnL Mean: %s' % str(np.mean(pnl)))\n",
        "    print('PnL Std:  %s' % str(np.std(pnl)))"
      ],
      "execution_count": null,
      "outputs": []
    }
  ]
}