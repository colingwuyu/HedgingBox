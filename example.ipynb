{
  "cells": [
    {
      "cell_type": "markdown",
      "metadata": {
        "pycharm": {}
      },
      "source": [
        "# Imports"
      ]
    },
    {
      "cell_type": "code",
      "execution_count": 1,
      "metadata": {
        "pycharm": {}
      },
      "outputs": [],
      "source": "import acme\nfrom acme import specs\nfrom acme.tf import networks\nfrom acme import  types\nfrom acme.agents.tf import d4pg\nfrom hb.bots import deltabot\nfrom hb.market_env import bs_euro_hedge_env\nimport numpy as np\nimport matplotlib.pyplot as plt\nfrom typing import Dict, Sequence\nimport tensorflow as tf\nimport sonnet as snt"
    },
    {
      "cell_type": "markdown",
      "metadata": {
        "pycharm": {}
      },
      "source": [
        "# Create Environment"
      ]
    },
    {
      "cell_type": "code",
      "execution_count": 1,
      "metadata": {
        "pycharm": {}
      },
      "outputs": [
        {
          "output_type": "error",
          "ename": "NameError",
          "evalue": "name \u0027bs_euro_hedge_env\u0027 is not defined",
          "traceback": [
            "\u001b[0;31m---------------------------------------------------------------------------\u001b[0m",
            "\u001b[0;31mNameError\u001b[0m                                 Traceback (most recent call last)",
            "\u001b[0;32m\u003cipython-input-1-0bc435fa1c5f\u003e\u001b[0m in \u001b[0;36m\u003cmodule\u003e\u001b[0;34m\u001b[0m\n\u001b[0;32m----\u003e 1\u001b[0;31m environment \u003d bs_euro_hedge_env.BSEuroHedgeEnv(\n\u001b[0m\u001b[1;32m      2\u001b[0m             \u001b[0mepisode_steps\u001b[0m\u001b[0;34m\u003d\u001b[0m\u001b[0;36m30\u001b[0m\u001b[0;34m,\u001b[0m\u001b[0;34m\u001b[0m\u001b[0;34m\u001b[0m\u001b[0m\n\u001b[1;32m      3\u001b[0m             \u001b[0moption_maturity\u001b[0m\u001b[0;34m\u003d\u001b[0m\u001b[0;36m30.\u001b[0m\u001b[0;34m/\u001b[0m\u001b[0;36m365.\u001b[0m\u001b[0;34m,\u001b[0m\u001b[0;34m\u001b[0m\u001b[0;34m\u001b[0m\u001b[0m\n\u001b[1;32m      4\u001b[0m             \u001b[0moption_holding\u001b[0m\u001b[0;34m\u003d\u001b[0m\u001b[0;34m-\u001b[0m\u001b[0;36m10\u001b[0m\u001b[0;34m,\u001b[0m\u001b[0;34m\u001b[0m\u001b[0;34m\u001b[0m\u001b[0m\n\u001b[1;32m      5\u001b[0m             \u001b[0mmax_sell_action\u001b[0m\u001b[0;34m\u003d\u001b[0m\u001b[0;34m-\u001b[0m\u001b[0;36m10\u001b[0m\u001b[0;34m,\u001b[0m\u001b[0;34m\u001b[0m\u001b[0;34m\u001b[0m\u001b[0m\n",
            "\u001b[0;31mNameError\u001b[0m: name \u0027bs_euro_hedge_env\u0027 is not defined"
          ]
        }
      ],
      "source": [
        "environment \u003d bs_euro_hedge_env.BSEuroHedgeEnv(\n",
        "            episode_steps\u003d30,\n",
        "            option_maturity\u003d30./365.,\n",
        "            option_holding\u003d-10,\n",
        "            max_sell_action\u003d-10,\n",
        "            max_buy_action\u003d10,\n",
        "            trading_cost_pct\u003d0.01,\n",
        "        )"
      ]
    },
    {
      "cell_type": "markdown",
      "metadata": {
        "pycharm": {}
      },
      "source": [
        "# Delta Hedge Actor"
      ]
    },
    {
      "cell_type": "code",
      "execution_count": 11,
      "metadata": {
        "pycharm": {}
      },
      "outputs": [],
      "source": [
        "actor \u003d deltabot.DeltaHedgeActor(environment.action_spec())"
      ]
    },
    {
      "cell_type": "markdown",
      "metadata": {
        "pycharm": {}
      },
      "source": [
        "# Evaluate the Delta Hedge Bot"
      ]
    },
    {
      "cell_type": "code",
      "execution_count": 15,
      "metadata": {
        "tags": [],
        "pycharm": {}
      },
      "outputs": [
        {
          "output_type": "stream",
          "name": "stdout",
          "text": "PnL Mean: -0.04932023893930656\nPnL Std:  0.1403611224404583\n"
        },
        {
          "output_type": "display_data",
          "data": {
            "text/plain": "\u003cFigure size 432x288 with 1 Axes\u003e",
            "image/svg+xml": "\u003c?xml version\u003d\"1.0\" encoding\u003d\"utf-8\" standalone\u003d\"no\"?\u003e\n\u003c!DOCTYPE svg PUBLIC \"-//W3C//DTD SVG 1.1//EN\"\n  \"http://www.w3.org/Graphics/SVG/1.1/DTD/svg11.dtd\"\u003e\n\u003c!-- Created with matplotlib (https://matplotlib.org/) --\u003e\n\u003csvg height\u003d\"248.518125pt\" version\u003d\"1.1\" viewBox\u003d\"0 0 380.482813 248.518125\" width\u003d\"380.482813pt\" xmlns\u003d\"http://www.w3.org/2000/svg\" xmlns:xlink\u003d\"http://www.w3.org/1999/xlink\"\u003e\n \u003cdefs\u003e\n  \u003cstyle type\u003d\"text/css\"\u003e\n*{stroke-linecap:butt;stroke-linejoin:round;}\n  \u003c/style\u003e\n \u003c/defs\u003e\n \u003cg id\u003d\"figure_1\"\u003e\n  \u003cg id\u003d\"patch_1\"\u003e\n   \u003cpath d\u003d\"M -0 248.518125 \nL 380.482813 248.518125 \nL 380.482813 0 \nL -0 0 \nz\n\" style\u003d\"fill:none;\"/\u003e\n  \u003c/g\u003e\n  \u003cg id\u003d\"axes_1\"\u003e\n   \u003cg id\u003d\"patch_2\"\u003e\n    \u003cpath d\u003d\"M 38.482813 224.64 \nL 373.282813 224.64 \nL 373.282813 7.2 \nL 38.482813 7.2 \nz\n\" style\u003d\"fill:#ffffff;\"/\u003e\n   \u003c/g\u003e\n   \u003cg id\u003d\"matplotlib.axis_1\"\u003e\n    \u003cg id\u003d\"xtick_1\"\u003e\n     \u003cg id\u003d\"line2d_1\"\u003e\n      \u003cdefs\u003e\n       \u003cpath d\u003d\"M 0 0 \nL 0 3.5 \n\" id\u003d\"m1749f0319a\" style\u003d\"stroke:#000000;stroke-width:0.8;\"/\u003e\n      \u003c/defs\u003e\n      \u003cg\u003e\n       \u003cuse style\u003d\"stroke:#000000;stroke-width:0.8;\" x\u003d\"53.700994\" xlink:href\u003d\"#m1749f0319a\" y\u003d\"224.64\"/\u003e\n      \u003c/g\u003e\n     \u003c/g\u003e\n     \u003cg id\u003d\"text_1\"\u003e\n      \u003c!-- 0 --\u003e\n      \u003cdefs\u003e\n       \u003cpath d\u003d\"M 31.78125 66.40625 \nQ 24.171875 66.40625 20.328125 58.90625 \nQ 16.5 51.421875 16.5 36.375 \nQ 16.5 21.390625 20.328125 13.890625 \nQ 24.171875 6.390625 31.78125 6.390625 \nQ 39.453125 6.390625 43.28125 13.890625 \nQ 47.125 21.390625 47.125 36.375 \nQ 47.125 51.421875 43.28125 58.90625 \nQ 39.453125 66.40625 31.78125 66.40625 \nz\nM 31.78125 74.21875 \nQ 44.046875 74.21875 50.515625 64.515625 \nQ 56.984375 54.828125 56.984375 36.375 \nQ 56.984375 17.96875 50.515625 8.265625 \nQ 44.046875 -1.421875 31.78125 -1.421875 \nQ 19.53125 -1.421875 13.0625 8.265625 \nQ 6.59375 17.96875 6.59375 36.375 \nQ 6.59375 54.828125 13.0625 64.515625 \nQ 19.53125 74.21875 31.78125 74.21875 \nz\n\" id\u003d\"DejaVuSans-48\"/\u003e\n      \u003c/defs\u003e\n      \u003cg transform\u003d\"translate(50.519744 239.238437)scale(0.1 -0.1)\"\u003e\n       \u003cuse xlink:href\u003d\"#DejaVuSans-48\"/\u003e\n      \u003c/g\u003e\n     \u003c/g\u003e\n    \u003c/g\u003e\n    \u003cg id\u003d\"xtick_2\"\u003e\n     \u003cg id\u003d\"line2d_2\"\u003e\n      \u003cg\u003e\n       \u003cuse style\u003d\"stroke:#000000;stroke-width:0.8;\" x\u003d\"114.573722\" xlink:href\u003d\"#m1749f0319a\" y\u003d\"224.64\"/\u003e\n      \u003c/g\u003e\n     \u003c/g\u003e\n     \u003cg id\u003d\"text_2\"\u003e\n      \u003c!-- 200 --\u003e\n      \u003cdefs\u003e\n       \u003cpath d\u003d\"M 19.1875 8.296875 \nL 53.609375 8.296875 \nL 53.609375 0 \nL 7.328125 0 \nL 7.328125 8.296875 \nQ 12.9375 14.109375 22.625 23.890625 \nQ 32.328125 33.6875 34.8125 36.53125 \nQ 39.546875 41.84375 41.421875 45.53125 \nQ 43.3125 49.21875 43.3125 52.78125 \nQ 43.3125 58.59375 39.234375 62.25 \nQ 35.15625 65.921875 28.609375 65.921875 \nQ 23.96875 65.921875 18.8125 64.3125 \nQ 13.671875 62.703125 7.8125 59.421875 \nL 7.8125 69.390625 \nQ 13.765625 71.78125 18.9375 73 \nQ 24.125 74.21875 28.421875 74.21875 \nQ 39.75 74.21875 46.484375 68.546875 \nQ 53.21875 62.890625 53.21875 53.421875 \nQ 53.21875 48.921875 51.53125 44.890625 \nQ 49.859375 40.875 45.40625 35.40625 \nQ 44.1875 33.984375 37.640625 27.21875 \nQ 31.109375 20.453125 19.1875 8.296875 \nz\n\" id\u003d\"DejaVuSans-50\"/\u003e\n      \u003c/defs\u003e\n      \u003cg transform\u003d\"translate(105.029972 239.238437)scale(0.1 -0.1)\"\u003e\n       \u003cuse xlink:href\u003d\"#DejaVuSans-50\"/\u003e\n       \u003cuse x\u003d\"63.623047\" xlink:href\u003d\"#DejaVuSans-48\"/\u003e\n       \u003cuse x\u003d\"127.246094\" xlink:href\u003d\"#DejaVuSans-48\"/\u003e\n      \u003c/g\u003e\n     \u003c/g\u003e\n    \u003c/g\u003e\n    \u003cg id\u003d\"xtick_3\"\u003e\n     \u003cg id\u003d\"line2d_3\"\u003e\n      \u003cg\u003e\n       \u003cuse style\u003d\"stroke:#000000;stroke-width:0.8;\" x\u003d\"175.446449\" xlink:href\u003d\"#m1749f0319a\" y\u003d\"224.64\"/\u003e\n      \u003c/g\u003e\n     \u003c/g\u003e\n     \u003cg id\u003d\"text_3\"\u003e\n      \u003c!-- 400 --\u003e\n      \u003cdefs\u003e\n       \u003cpath d\u003d\"M 37.796875 64.3125 \nL 12.890625 25.390625 \nL 37.796875 25.390625 \nz\nM 35.203125 72.90625 \nL 47.609375 72.90625 \nL 47.609375 25.390625 \nL 58.015625 25.390625 \nL 58.015625 17.1875 \nL 47.609375 17.1875 \nL 47.609375 0 \nL 37.796875 0 \nL 37.796875 17.1875 \nL 4.890625 17.1875 \nL 4.890625 26.703125 \nz\n\" id\u003d\"DejaVuSans-52\"/\u003e\n      \u003c/defs\u003e\n      \u003cg transform\u003d\"translate(165.902699 239.238437)scale(0.1 -0.1)\"\u003e\n       \u003cuse xlink:href\u003d\"#DejaVuSans-52\"/\u003e\n       \u003cuse x\u003d\"63.623047\" xlink:href\u003d\"#DejaVuSans-48\"/\u003e\n       \u003cuse x\u003d\"127.246094\" xlink:href\u003d\"#DejaVuSans-48\"/\u003e\n      \u003c/g\u003e\n     \u003c/g\u003e\n    \u003c/g\u003e\n    \u003cg id\u003d\"xtick_4\"\u003e\n     \u003cg id\u003d\"line2d_4\"\u003e\n      \u003cg\u003e\n       \u003cuse style\u003d\"stroke:#000000;stroke-width:0.8;\" x\u003d\"236.319176\" xlink:href\u003d\"#m1749f0319a\" y\u003d\"224.64\"/\u003e\n      \u003c/g\u003e\n     \u003c/g\u003e\n     \u003cg id\u003d\"text_4\"\u003e\n      \u003c!-- 600 --\u003e\n      \u003cdefs\u003e\n       \u003cpath d\u003d\"M 33.015625 40.375 \nQ 26.375 40.375 22.484375 35.828125 \nQ 18.609375 31.296875 18.609375 23.390625 \nQ 18.609375 15.53125 22.484375 10.953125 \nQ 26.375 6.390625 33.015625 6.390625 \nQ 39.65625 6.390625 43.53125 10.953125 \nQ 47.40625 15.53125 47.40625 23.390625 \nQ 47.40625 31.296875 43.53125 35.828125 \nQ 39.65625 40.375 33.015625 40.375 \nz\nM 52.59375 71.296875 \nL 52.59375 62.3125 \nQ 48.875 64.0625 45.09375 64.984375 \nQ 41.3125 65.921875 37.59375 65.921875 \nQ 27.828125 65.921875 22.671875 59.328125 \nQ 17.53125 52.734375 16.796875 39.40625 \nQ 19.671875 43.65625 24.015625 45.921875 \nQ 28.375 48.1875 33.59375 48.1875 \nQ 44.578125 48.1875 50.953125 41.515625 \nQ 57.328125 34.859375 57.328125 23.390625 \nQ 57.328125 12.15625 50.6875 5.359375 \nQ 44.046875 -1.421875 33.015625 -1.421875 \nQ 20.359375 -1.421875 13.671875 8.265625 \nQ 6.984375 17.96875 6.984375 36.375 \nQ 6.984375 53.65625 15.1875 63.9375 \nQ 23.390625 74.21875 37.203125 74.21875 \nQ 40.921875 74.21875 44.703125 73.484375 \nQ 48.484375 72.75 52.59375 71.296875 \nz\n\" id\u003d\"DejaVuSans-54\"/\u003e\n      \u003c/defs\u003e\n      \u003cg transform\u003d\"translate(226.775426 239.238437)scale(0.1 -0.1)\"\u003e\n       \u003cuse xlink:href\u003d\"#DejaVuSans-54\"/\u003e\n       \u003cuse x\u003d\"63.623047\" xlink:href\u003d\"#DejaVuSans-48\"/\u003e\n       \u003cuse x\u003d\"127.246094\" xlink:href\u003d\"#DejaVuSans-48\"/\u003e\n      \u003c/g\u003e\n     \u003c/g\u003e\n    \u003c/g\u003e\n    \u003cg id\u003d\"xtick_5\"\u003e\n     \u003cg id\u003d\"line2d_5\"\u003e\n      \u003cg\u003e\n       \u003cuse style\u003d\"stroke:#000000;stroke-width:0.8;\" x\u003d\"297.191903\" xlink:href\u003d\"#m1749f0319a\" y\u003d\"224.64\"/\u003e\n      \u003c/g\u003e\n     \u003c/g\u003e\n     \u003cg id\u003d\"text_5\"\u003e\n      \u003c!-- 800 --\u003e\n      \u003cdefs\u003e\n       \u003cpath d\u003d\"M 31.78125 34.625 \nQ 24.75 34.625 20.71875 30.859375 \nQ 16.703125 27.09375 16.703125 20.515625 \nQ 16.703125 13.921875 20.71875 10.15625 \nQ 24.75 6.390625 31.78125 6.390625 \nQ 38.8125 6.390625 42.859375 10.171875 \nQ 46.921875 13.96875 46.921875 20.515625 \nQ 46.921875 27.09375 42.890625 30.859375 \nQ 38.875 34.625 31.78125 34.625 \nz\nM 21.921875 38.8125 \nQ 15.578125 40.375 12.03125 44.71875 \nQ 8.5 49.078125 8.5 55.328125 \nQ 8.5 64.0625 14.71875 69.140625 \nQ 20.953125 74.21875 31.78125 74.21875 \nQ 42.671875 74.21875 48.875 69.140625 \nQ 55.078125 64.0625 55.078125 55.328125 \nQ 55.078125 49.078125 51.53125 44.71875 \nQ 48 40.375 41.703125 38.8125 \nQ 48.828125 37.15625 52.796875 32.3125 \nQ 56.78125 27.484375 56.78125 20.515625 \nQ 56.78125 9.90625 50.3125 4.234375 \nQ 43.84375 -1.421875 31.78125 -1.421875 \nQ 19.734375 -1.421875 13.25 4.234375 \nQ 6.78125 9.90625 6.78125 20.515625 \nQ 6.78125 27.484375 10.78125 32.3125 \nQ 14.796875 37.15625 21.921875 38.8125 \nz\nM 18.3125 54.390625 \nQ 18.3125 48.734375 21.84375 45.5625 \nQ 25.390625 42.390625 31.78125 42.390625 \nQ 38.140625 42.390625 41.71875 45.5625 \nQ 45.3125 48.734375 45.3125 54.390625 \nQ 45.3125 60.0625 41.71875 63.234375 \nQ 38.140625 66.40625 31.78125 66.40625 \nQ 25.390625 66.40625 21.84375 63.234375 \nQ 18.3125 60.0625 18.3125 54.390625 \nz\n\" id\u003d\"DejaVuSans-56\"/\u003e\n      \u003c/defs\u003e\n      \u003cg transform\u003d\"translate(287.648153 239.238437)scale(0.1 -0.1)\"\u003e\n       \u003cuse xlink:href\u003d\"#DejaVuSans-56\"/\u003e\n       \u003cuse x\u003d\"63.623047\" xlink:href\u003d\"#DejaVuSans-48\"/\u003e\n       \u003cuse x\u003d\"127.246094\" xlink:href\u003d\"#DejaVuSans-48\"/\u003e\n      \u003c/g\u003e\n     \u003c/g\u003e\n    \u003c/g\u003e\n    \u003cg id\u003d\"xtick_6\"\u003e\n     \u003cg id\u003d\"line2d_6\"\u003e\n      \u003cg\u003e\n       \u003cuse style\u003d\"stroke:#000000;stroke-width:0.8;\" x\u003d\"358.064631\" xlink:href\u003d\"#m1749f0319a\" y\u003d\"224.64\"/\u003e\n      \u003c/g\u003e\n     \u003c/g\u003e\n     \u003cg id\u003d\"text_6\"\u003e\n      \u003c!-- 1000 --\u003e\n      \u003cdefs\u003e\n       \u003cpath d\u003d\"M 12.40625 8.296875 \nL 28.515625 8.296875 \nL 28.515625 63.921875 \nL 10.984375 60.40625 \nL 10.984375 69.390625 \nL 28.421875 72.90625 \nL 38.28125 72.90625 \nL 38.28125 8.296875 \nL 54.390625 8.296875 \nL 54.390625 0 \nL 12.40625 0 \nz\n\" id\u003d\"DejaVuSans-49\"/\u003e\n      \u003c/defs\u003e\n      \u003cg transform\u003d\"translate(345.339631 239.238437)scale(0.1 -0.1)\"\u003e\n       \u003cuse xlink:href\u003d\"#DejaVuSans-49\"/\u003e\n       \u003cuse x\u003d\"63.623047\" xlink:href\u003d\"#DejaVuSans-48\"/\u003e\n       \u003cuse x\u003d\"127.246094\" xlink:href\u003d\"#DejaVuSans-48\"/\u003e\n       \u003cuse x\u003d\"190.869141\" xlink:href\u003d\"#DejaVuSans-48\"/\u003e\n      \u003c/g\u003e\n     \u003c/g\u003e\n    \u003c/g\u003e\n   \u003c/g\u003e\n   \u003cg id\u003d\"matplotlib.axis_2\"\u003e\n    \u003cg id\u003d\"ytick_1\"\u003e\n     \u003cg id\u003d\"line2d_7\"\u003e\n      \u003cdefs\u003e\n       \u003cpath d\u003d\"M 0 0 \nL -3.5 0 \n\" id\u003d\"m555aaef060\" style\u003d\"stroke:#000000;stroke-width:0.8;\"/\u003e\n      \u003c/defs\u003e\n      \u003cg\u003e\n       \u003cuse style\u003d\"stroke:#000000;stroke-width:0.8;\" x\u003d\"38.482813\" xlink:href\u003d\"#m555aaef060\" y\u003d\"207.341508\"/\u003e\n      \u003c/g\u003e\n     \u003c/g\u003e\n     \u003cg id\u003d\"text_7\"\u003e\n      \u003c!-- −0.8 --\u003e\n      \u003cdefs\u003e\n       \u003cpath d\u003d\"M 10.59375 35.5 \nL 73.1875 35.5 \nL 73.1875 27.203125 \nL 10.59375 27.203125 \nz\n\" id\u003d\"DejaVuSans-8722\"/\u003e\n       \u003cpath d\u003d\"M 10.6875 12.40625 \nL 21 12.40625 \nL 21 0 \nL 10.6875 0 \nz\n\" id\u003d\"DejaVuSans-46\"/\u003e\n      \u003c/defs\u003e\n      \u003cg transform\u003d\"translate(7.2 211.140727)scale(0.1 -0.1)\"\u003e\n       \u003cuse xlink:href\u003d\"#DejaVuSans-8722\"/\u003e\n       \u003cuse x\u003d\"83.789062\" xlink:href\u003d\"#DejaVuSans-48\"/\u003e\n       \u003cuse x\u003d\"147.412109\" xlink:href\u003d\"#DejaVuSans-46\"/\u003e\n       \u003cuse x\u003d\"179.199219\" xlink:href\u003d\"#DejaVuSans-56\"/\u003e\n      \u003c/g\u003e\n     \u003c/g\u003e\n    \u003c/g\u003e\n    \u003cg id\u003d\"ytick_2\"\u003e\n     \u003cg id\u003d\"line2d_8\"\u003e\n      \u003cg\u003e\n       \u003cuse style\u003d\"stroke:#000000;stroke-width:0.8;\" x\u003d\"38.482813\" xlink:href\u003d\"#m555aaef060\" y\u003d\"177.512079\"/\u003e\n      \u003c/g\u003e\n     \u003c/g\u003e\n     \u003cg id\u003d\"text_8\"\u003e\n      \u003c!-- −0.6 --\u003e\n      \u003cg transform\u003d\"translate(7.2 181.311298)scale(0.1 -0.1)\"\u003e\n       \u003cuse xlink:href\u003d\"#DejaVuSans-8722\"/\u003e\n       \u003cuse x\u003d\"83.789062\" xlink:href\u003d\"#DejaVuSans-48\"/\u003e\n       \u003cuse x\u003d\"147.412109\" xlink:href\u003d\"#DejaVuSans-46\"/\u003e\n       \u003cuse x\u003d\"179.199219\" xlink:href\u003d\"#DejaVuSans-54\"/\u003e\n      \u003c/g\u003e\n     \u003c/g\u003e\n    \u003c/g\u003e\n    \u003cg id\u003d\"ytick_3\"\u003e\n     \u003cg id\u003d\"line2d_9\"\u003e\n      \u003cg\u003e\n       \u003cuse style\u003d\"stroke:#000000;stroke-width:0.8;\" x\u003d\"38.482813\" xlink:href\u003d\"#m555aaef060\" y\u003d\"147.68265\"/\u003e\n      \u003c/g\u003e\n     \u003c/g\u003e\n     \u003cg id\u003d\"text_9\"\u003e\n      \u003c!-- −0.4 --\u003e\n      \u003cg transform\u003d\"translate(7.2 151.481869)scale(0.1 -0.1)\"\u003e\n       \u003cuse xlink:href\u003d\"#DejaVuSans-8722\"/\u003e\n       \u003cuse x\u003d\"83.789062\" xlink:href\u003d\"#DejaVuSans-48\"/\u003e\n       \u003cuse x\u003d\"147.412109\" xlink:href\u003d\"#DejaVuSans-46\"/\u003e\n       \u003cuse x\u003d\"179.199219\" xlink:href\u003d\"#DejaVuSans-52\"/\u003e\n      \u003c/g\u003e\n     \u003c/g\u003e\n    \u003c/g\u003e\n    \u003cg id\u003d\"ytick_4\"\u003e\n     \u003cg id\u003d\"line2d_10\"\u003e\n      \u003cg\u003e\n       \u003cuse style\u003d\"stroke:#000000;stroke-width:0.8;\" x\u003d\"38.482813\" xlink:href\u003d\"#m555aaef060\" y\u003d\"117.853221\"/\u003e\n      \u003c/g\u003e\n     \u003c/g\u003e\n     \u003cg id\u003d\"text_10\"\u003e\n      \u003c!-- −0.2 --\u003e\n      \u003cg transform\u003d\"translate(7.2 121.652439)scale(0.1 -0.1)\"\u003e\n       \u003cuse xlink:href\u003d\"#DejaVuSans-8722\"/\u003e\n       \u003cuse x\u003d\"83.789062\" xlink:href\u003d\"#DejaVuSans-48\"/\u003e\n       \u003cuse x\u003d\"147.412109\" xlink:href\u003d\"#DejaVuSans-46\"/\u003e\n       \u003cuse x\u003d\"179.199219\" xlink:href\u003d\"#DejaVuSans-50\"/\u003e\n      \u003c/g\u003e\n     \u003c/g\u003e\n    \u003c/g\u003e\n    \u003cg id\u003d\"ytick_5\"\u003e\n     \u003cg id\u003d\"line2d_11\"\u003e\n      \u003cg\u003e\n       \u003cuse style\u003d\"stroke:#000000;stroke-width:0.8;\" x\u003d\"38.482813\" xlink:href\u003d\"#m555aaef060\" y\u003d\"88.023791\"/\u003e\n      \u003c/g\u003e\n     \u003c/g\u003e\n     \u003cg id\u003d\"text_11\"\u003e\n      \u003c!-- 0.0 --\u003e\n      \u003cg transform\u003d\"translate(15.579688 91.82301)scale(0.1 -0.1)\"\u003e\n       \u003cuse xlink:href\u003d\"#DejaVuSans-48\"/\u003e\n       \u003cuse x\u003d\"63.623047\" xlink:href\u003d\"#DejaVuSans-46\"/\u003e\n       \u003cuse x\u003d\"95.410156\" xlink:href\u003d\"#DejaVuSans-48\"/\u003e\n      \u003c/g\u003e\n     \u003c/g\u003e\n    \u003c/g\u003e\n    \u003cg id\u003d\"ytick_6\"\u003e\n     \u003cg id\u003d\"line2d_12\"\u003e\n      \u003cg\u003e\n       \u003cuse style\u003d\"stroke:#000000;stroke-width:0.8;\" x\u003d\"38.482813\" xlink:href\u003d\"#m555aaef060\" y\u003d\"58.194362\"/\u003e\n      \u003c/g\u003e\n     \u003c/g\u003e\n     \u003cg id\u003d\"text_12\"\u003e\n      \u003c!-- 0.2 --\u003e\n      \u003cg transform\u003d\"translate(15.579688 61.993581)scale(0.1 -0.1)\"\u003e\n       \u003cuse xlink:href\u003d\"#DejaVuSans-48\"/\u003e\n       \u003cuse x\u003d\"63.623047\" xlink:href\u003d\"#DejaVuSans-46\"/\u003e\n       \u003cuse x\u003d\"95.410156\" xlink:href\u003d\"#DejaVuSans-50\"/\u003e\n      \u003c/g\u003e\n     \u003c/g\u003e\n    \u003c/g\u003e\n    \u003cg id\u003d\"ytick_7\"\u003e\n     \u003cg id\u003d\"line2d_13\"\u003e\n      \u003cg\u003e\n       \u003cuse style\u003d\"stroke:#000000;stroke-width:0.8;\" x\u003d\"38.482813\" xlink:href\u003d\"#m555aaef060\" y\u003d\"28.364933\"/\u003e\n      \u003c/g\u003e\n     \u003c/g\u003e\n     \u003cg id\u003d\"text_13\"\u003e\n      \u003c!-- 0.4 --\u003e\n      \u003cg transform\u003d\"translate(15.579688 32.164152)scale(0.1 -0.1)\"\u003e\n       \u003cuse xlink:href\u003d\"#DejaVuSans-48\"/\u003e\n       \u003cuse x\u003d\"63.623047\" xlink:href\u003d\"#DejaVuSans-46\"/\u003e\n       \u003cuse x\u003d\"95.410156\" xlink:href\u003d\"#DejaVuSans-52\"/\u003e\n      \u003c/g\u003e\n     \u003c/g\u003e\n    \u003c/g\u003e\n   \u003c/g\u003e\n   \u003cg id\u003d\"line2d_14\"\u003e\n    \u003cpath clip-path\u003d\"url(#peac1f88f19)\" d\u003d\"M 53.700994 88.023791 \nL 54.005358 107.77602 \nL 54.309722 97.582681 \nL 54.614085 123.103972 \nL 54.918449 91.434453 \nL 55.222813 119.649737 \nL 55.527176 181.626874 \nL 55.83154 124.378222 \nL 56.135903 100.789856 \nL 56.440267 135.266426 \nL 56.744631 104.215681 \nL 57.048994 87.502853 \nL 57.353358 85.126111 \nL 57.962085 96.984044 \nL 58.266449 112.024434 \nL 58.570813 119.559193 \nL 58.875176 101.939489 \nL 59.483903 176.890713 \nL 59.788267 214.756364 \nL 60.092631 115.130013 \nL 60.396994 111.637617 \nL 60.701358 117.309113 \nL 61.005722 113.299965 \nL 61.310085 98.044889 \nL 61.614449 159.806613 \nL 61.918813 143.343232 \nL 62.223176 92.937838 \nL 62.52754 105.869932 \nL 62.831903 106.268452 \nL 63.136267 84.593052 \nL 63.440631 115.145562 \nL 64.049358 83.059372 \nL 64.353722 106.438223 \nL 64.962449 91.726053 \nL 65.266813 132.620136 \nL 65.571176 107.815087 \nL 65.87554 106.477551 \nL 66.484267 100.468451 \nL 66.788631 113.421687 \nL 67.092994 102.864528 \nL 67.397358 187.785877 \nL 67.701722 86.51096 \nL 68.006085 115.839668 \nL 68.310449 101.358736 \nL 68.614812 95.515698 \nL 68.919176 96.457542 \nL 69.832267 148.016579 \nL 70.136631 135.476429 \nL 70.440994 104.323758 \nL 70.745358 172.01872 \nL 71.049722 169.71267 \nL 71.354085 170.778014 \nL 71.658449 104.05029 \nL 71.962813 137.389434 \nL 72.267176 140.513097 \nL 72.57154 137.031649 \nL 72.875903 136.844101 \nL 73.180267 136.513291 \nL 73.484631 109.989862 \nL 73.788994 157.661974 \nL 74.093358 163.538924 \nL 74.702085 121.921145 \nL 75.006449 133.286023 \nL 75.310812 160.640164 \nL 75.615176 116.380298 \nL 75.91954 143.308682 \nL 76.223903 96.72419 \nL 76.528267 133.093818 \nL 76.832631 79.107899 \nL 77.136994 83.616631 \nL 77.441358 189.093762 \nL 77.745722 125.32669 \nL 78.050085 157.469393 \nL 78.354449 32.586641 \nL 78.658813 113.253213 \nL 78.963176 115.337832 \nL 79.26754 102.720715 \nL 79.571903 125.857918 \nL 79.876267 92.535333 \nL 80.180631 163.029784 \nL 80.484994 143.436652 \nL 80.789358 83.268476 \nL 81.093722 137.764586 \nL 81.398085 132.19523 \nL 81.702449 175.898659 \nL 82.006813 157.567595 \nL 82.311176 84.087265 \nL 82.61554 95.656231 \nL 82.919903 155.760391 \nL 83.224267 77.153884 \nL 83.528631 142.54278 \nL 83.832994 99.078181 \nL 84.137358 139.628693 \nL 84.441722 140.774895 \nL 84.746085 135.30064 \nL 85.050449 96.817328 \nL 85.354813 123.697105 \nL 85.659176 164.711251 \nL 85.96354 116.35139 \nL 86.267903 138.296179 \nL 86.572267 180.245407 \nL 86.876631 189.804631 \nL 87.180994 177.87348 \nL 87.485358 128.446456 \nL 87.789722 127.116292 \nL 88.398449 105.425638 \nL 88.702813 117.810115 \nL 89.007176 73.480155 \nL 89.31154 144.217027 \nL 89.615903 113.615011 \nL 89.920267 164.205992 \nL 90.224631 161.587891 \nL 90.528994 174.202763 \nL 90.833358 96.170658 \nL 91.137722 116.06115 \nL 91.442085 97.87227 \nL 91.746449 67.856369 \nL 92.050813 100.038444 \nL 92.355176 95.609377 \nL 92.65954 165.270717 \nL 92.963903 24.875526 \nL 93.268267 142.844127 \nL 93.572631 115.23135 \nL 93.876994 107.842813 \nL 94.181358 113.385757 \nL 94.485722 141.567848 \nL 94.790085 121.094288 \nL 95.094449 211.853778 \nL 95.398813 132.217234 \nL 95.703176 107.652048 \nL 96.00754 105.495889 \nL 96.311903 117.111145 \nL 96.616267 184.101574 \nL 96.920631 145.557501 \nL 97.224994 176.85226 \nL 97.529358 78.202218 \nL 98.138085 128.232786 \nL 98.442449 118.157854 \nL 98.746813 152.208338 \nL 99.051176 165.565803 \nL 99.35554 112.131449 \nL 99.659903 17.083636 \nL 99.964267 91.027827 \nL 100.268631 80.526857 \nL 100.877358 203.494221 \nL 101.181722 139.310252 \nL 101.486085 195.866669 \nL 101.790449 139.504152 \nL 102.094813 169.852806 \nL 102.399176 139.290712 \nL 102.70354 156.123109 \nL 103.007903 90.949557 \nL 103.312267 114.930936 \nL 103.616631 185.733477 \nL 103.920994 163.563009 \nL 104.225358 74.176315 \nL 104.529722 169.480699 \nL 104.834085 175.949321 \nL 105.138449 116.740434 \nL 105.442813 140.902271 \nL 105.747176 105.009185 \nL 106.05154 140.053464 \nL 106.355903 134.157411 \nL 106.660267 112.625327 \nL 106.964631 126.416214 \nL 107.268994 106.408084 \nL 107.573358 155.711696 \nL 107.877722 102.397482 \nL 108.182085 142.5088 \nL 108.486449 139.693707 \nL 108.790813 96.666455 \nL 109.095176 112.391096 \nL 109.39954 141.172282 \nL 109.703903 184.327869 \nL 110.008267 102.745724 \nL 110.312631 123.794069 \nL 110.616994 121.306068 \nL 110.921358 57.342147 \nL 111.225722 122.874887 \nL 111.530085 159.689905 \nL 111.834449 161.122705 \nL 112.138813 109.496288 \nL 112.443176 151.320327 \nL 112.74754 119.117591 \nL 113.356267 168.322754 \nL 113.660631 88.023791 \nL 358.064631 88.023791 \nL 358.064631 88.023791 \n\" style\u003d\"fill:none;stroke:#1f77b4;stroke-linecap:square;stroke-width:1.5;\"/\u003e\n   \u003c/g\u003e\n   \u003cg id\u003d\"patch_3\"\u003e\n    \u003cpath d\u003d\"M 38.482813 224.64 \nL 38.482813 7.2 \n\" style\u003d\"fill:none;stroke:#000000;stroke-linecap:square;stroke-linejoin:miter;stroke-width:0.8;\"/\u003e\n   \u003c/g\u003e\n   \u003cg id\u003d\"patch_4\"\u003e\n    \u003cpath d\u003d\"M 373.282813 224.64 \nL 373.282813 7.2 \n\" style\u003d\"fill:none;stroke:#000000;stroke-linecap:square;stroke-linejoin:miter;stroke-width:0.8;\"/\u003e\n   \u003c/g\u003e\n   \u003cg id\u003d\"patch_5\"\u003e\n    \u003cpath d\u003d\"M 38.482813 224.64 \nL 373.282813 224.64 \n\" style\u003d\"fill:none;stroke:#000000;stroke-linecap:square;stroke-linejoin:miter;stroke-width:0.8;\"/\u003e\n   \u003c/g\u003e\n   \u003cg id\u003d\"patch_6\"\u003e\n    \u003cpath d\u003d\"M 38.482813 7.2 \nL 373.282813 7.2 \n\" style\u003d\"fill:none;stroke:#000000;stroke-linecap:square;stroke-linejoin:miter;stroke-width:0.8;\"/\u003e\n   \u003c/g\u003e\n  \u003c/g\u003e\n \u003c/g\u003e\n \u003cdefs\u003e\n  \u003cclipPath id\u003d\"peac1f88f19\"\u003e\n   \u003crect height\u003d\"217.44\" width\u003d\"334.8\" x\u003d\"38.482813\" y\u003d\"7.2\"/\u003e\n  \u003c/clipPath\u003e\n \u003c/defs\u003e\n\u003c/svg\u003e\n",
            "image/png": "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\u003d\u003d\n"
          },
          "metadata": {
            "needs_background": "light"
          }
        }
      ],
      "source": [
        "num_episode \u003d 1\n",
        "for episode in range(num_episode):\n",
        "    pnl \u003d np.array([])\n",
        "    timestep \u003d environment.reset()\n",
        "\n",
        "    while not timestep.last():\n",
        "        action \u003d actor.select_action(timestep.observation)\n",
        "        timestep \u003d environment.step(action)\n",
        "        pnl \u003d np.append(pnl, timestep.reward)\n",
        "\n",
        "    plt.plot(pnl)\n",
        "    print(\u0027PnL Mean: %s\u0027 % str(np.mean(pnl)))\n",
        "    print(\u0027PnL Std:  %s\u0027 % str(np.std(pnl)))"
      ]
    },
    {
      "cell_type": "markdown",
      "metadata": {
        "pycharm": {}
      },
      "source": [
        "# D4PG"
      ]
    },
    {
      "cell_type": "code",
      "execution_count": 17,
      "metadata": {
        "pycharm": {}
      },
      "outputs": [
        {
          "output_type": "error",
          "ename": "NameError",
          "evalue": "name \u0027types\u0027 is not defined",
          "traceback": [
            "\u001b[0;31m---------------------------------------------------------------------------\u001b[0m",
            "\u001b[0;31mNameError\u001b[0m                                 Traceback (most recent call last)",
            "\u001b[0;32m\u003cipython-input-17-737850e301d2\u003e\u001b[0m in \u001b[0;36m\u003cmodule\u003e\u001b[0;34m\u001b[0m\n\u001b[1;32m      5\u001b[0m     \u001b[0mvmin\u001b[0m\u001b[0;34m:\u001b[0m \u001b[0mfloat\u001b[0m \u001b[0;34m\u003d\u001b[0m \u001b[0;34m-\u001b[0m\u001b[0;36m150.\u001b[0m\u001b[0;34m,\u001b[0m\u001b[0;34m\u001b[0m\u001b[0;34m\u001b[0m\u001b[0m\n\u001b[1;32m      6\u001b[0m     \u001b[0mvmax\u001b[0m\u001b[0;34m:\u001b[0m \u001b[0mfloat\u001b[0m \u001b[0;34m\u003d\u001b[0m \u001b[0;36m150.\u001b[0m\u001b[0;34m,\u001b[0m\u001b[0;34m\u001b[0m\u001b[0;34m\u001b[0m\u001b[0m\n\u001b[0;32m----\u003e 7\u001b[0;31m     \u001b[0mnum_atoms\u001b[0m\u001b[0;34m:\u001b[0m \u001b[0mint\u001b[0m \u001b[0;34m\u003d\u001b[0m \u001b[0;36m51\u001b[0m\u001b[0;34m,\u001b[0m\u001b[0;34m\u001b[0m\u001b[0;34m\u001b[0m\u001b[0m\n\u001b[0m\u001b[1;32m      8\u001b[0m ) -\u003e Dict[str, snt.Module]:\n\u001b[1;32m      9\u001b[0m   \u001b[0;34m\"\"\"Creates networks used by the agent.\"\"\"\u001b[0m\u001b[0;34m\u001b[0m\u001b[0;34m\u001b[0m\u001b[0m\n",
            "\u001b[0;31mNameError\u001b[0m: name \u0027types\u0027 is not defined"
          ]
        }
      ],
      "source": [
        "def make_networks(\n",
        "    action_spec: types.NestedSpec,\n",
        "    policy_layer_sizes: Sequence[int] \u003d (10, 10),\n",
        "    critic_layer_sizes: Sequence[int] \u003d (10, 10),\n",
        "    vmin: float \u003d -150.,\n",
        "    vmax: float \u003d 150.,\n",
        "    num_atoms: int \u003d 51,\n",
        ") -\u003e Dict[str, snt.Module]:\n",
        "  \"\"\"Creates networks used by the agent.\"\"\"\n",
        "\n",
        "  num_dimensions \u003d np.prod(action_spec.shape, dtype\u003dint)\n",
        "  policy_layer_sizes \u003d list(policy_layer_sizes) + [num_dimensions]\n",
        "\n",
        "  policy_network \u003d snt.Sequential(\n",
        "      [networks.LayerNormMLP(policy_layer_sizes), tf.tanh])\n",
        "  critic_network \u003d snt.Sequential([\n",
        "      networks.CriticMultiplexer(\n",
        "          critic_network\u003dnetworks.LayerNormMLP(\n",
        "              critic_layer_sizes, activate_final\u003dTrue)),\n",
        "      networks.DiscreteValuedHead(vmin, vmax, num_atoms)\n",
        "  ])\n",
        "\n",
        "  return {\n",
        "      \u0027policy\u0027: policy_network,\n",
        "      \u0027critic\u0027: critic_network,\n",
        "  }"
      ]
    },
    {
      "cell_type": "code",
      "execution_count": null,
      "metadata": {
        "pycharm": {}
      },
      "outputs": [],
      "source": [
        "spec \u003d specs.make_environment_spec(environment)\n",
        "\n",
        "# Create the networks.\n",
        "agent_networks \u003d make_networks(spec.actions)\n",
        "\n",
        "# Construct the agent.\n",
        "agent \u003d d4pg.D4PG(\n",
        "    environment_spec\u003dspec,\n",
        "    policy_network\u003dagent_networks[\u0027policy\u0027],\n",
        "    critic_network\u003dagent_networks[\u0027critic\u0027],\n",
        "    batch_size\u003d10,\n",
        "    samples_per_insert\u003d2,\n",
        "    min_replay_size\u003d30,\n",
        ")\n",
        "\n",
        "# Try running the environment loop. We have no assertions here because all\n",
        "# we care about is that the agent runs without raising any errors.\n",
        "loop \u003d acme.EnvironmentLoop(environment, agent)\n",
        "loop.run(num_episodes\u003d2)"
      ]
    }
  ],
  "metadata": {
    "language_info": {
      "codemirror_mode": {
        "name": "ipython",
        "version": 3
      },
      "file_extension": ".py",
      "mimetype": "text/x-python",
      "name": "python",
      "nbconvert_exporter": "python",
      "pygments_lexer": "ipython3",
      "version": "3.7.7-final"
    },
    "orig_nbformat": 2,
    "kernelspec": {
      "name": "python3",
      "language": "python",
      "display_name": "Python 3"
    }
  },
  "nbformat": 4,
  "nbformat_minor": 2
}